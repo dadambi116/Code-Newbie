{
 "cells": [
  {
   "cell_type": "markdown",
   "metadata": {},
   "source": [
    "pypi\n",
    "\n"
   ]
  },
  {
   "cell_type": "markdown",
   "metadata": {},
   "source": [
    "import 모듈명.함수명(변수명)\n",
    "  : 묘듈 갯수 많을 때, 다시 찾을 때 추척하기 편하기 위해\n",
    "\n",
    "from  변수명 import 함수명\n",
    ": 모듈 갯수 적을 때, 함수나 변수 여러개 사용\n",
    "\n",
    "- 모듈에 별칭 부여\n",
    "원래 모듈명이 너무 길어서 쓰기 불편할 때 사용\n",
    "ex. pandas = pd\n",
    " 뒤에 as 붙여서 별칭 부여\n",
    "\n",
    " "
   ]
  },
  {
   "cell_type": "code",
   "execution_count": null,
   "metadata": {
    "vscode": {
     "languageId": "plaintext"
    }
   },
   "outputs": [],
   "source": []
  }
 ],
 "metadata": {
  "language_info": {
   "name": "python"
  }
 },
 "nbformat": 4,
 "nbformat_minor": 2
}
