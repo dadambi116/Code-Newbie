{
 "cells": [
  {
   "cell_type": "markdown",
   "metadata": {},
   "source": [
    "pypi\n",
    "\n"
   ]
  },
  {
   "cell_type": "markdown",
   "metadata": {},
   "source": [
    "import 모듈명.함수명(변수명)\n",
    "  : 묘듈 갯수 많을 때, 다시 찾을 때 추척하기 편하기 위해\n",
    "\n",
    "from  변수명 import 함수명\n",
    ": 모듈 갯수 적을 때, 함수나 변수 여러개 사용\n",
    "\n",
    "- 모듈에 별칭 부여\n",
    "원래 모듈명이 너무 길어서 쓰기 불편할 때 사용\n",
    "ex. pandas = pd\n",
    " 뒤에 as 붙여서 별칭 부여\n",
    "\n",
    " "
   ]
  },
  {
   "cell_type": "markdown",
   "metadata": {},
   "source": [
    "# 문제 풀이"
   ]
  },
  {
   "cell_type": "markdown",
   "metadata": {},
   "source": [
    "### 문제 1: **다람쥐의 팀원 소개 모듈**\n",
    "\n",
    "다람쥐는 대기업에 입사한 후, 팀원들의 역할을 소개하는 프로그램을 작성하려고 합니다. `team_module.py`라는 모듈을 생성하고 이를 사용해 아래 요구사항을 구현하세요.\n",
    "\n",
    "1. **`team_module.py` 내용**:\n",
    "    - 함수 `introduce_manager()`: \"저는 팀장입니다. 팀을 이끌고 있습니다.\" 반환\n",
    "    - 함수 `introduce_developer()`: \"저는 개발자입니다. LLM 서비스를 개발하고 있습니다.\" 반환\n",
    "    - 변수 `company`: \"주식회사 SQUIRREL\"\n",
    "2. 메인 스크립트에서 `team_module.py`를 불러와 아래와 같이 출력하세요:\n",
    "\"안녕하세요, 주식회사 SQUIRREL입니다.\"\n",
    "\"저는 팀장입니다. 팀을 이끌고 있습니다.\"\n",
    "\"저는 개발자입니다. 프로젝트를 개발하고 있습니다.\""
   ]
  },
  {
   "cell_type": "markdown",
   "metadata": {},
   "source": [
    "### 문제 2: **다람쥐의 출퇴근 관리 모듈**\n",
    "\n",
    "다람쥐는 팀원들의 출퇴근 시간을 관리하는 프로그램을 작성하고자 합니다. `attendance_module.py`를 생성하고 이를 사용해 아래 요구사항을 구현하세요.\n",
    "\n",
    "1. **`attendance_module.py` 내용**:\n",
    "    - 함수 `record_attendance(name, time)`: \"{name}님이 {time}에 출근했습니다.\" 반환\n",
    "    - 함수 `record_leave(name, time)`: \"{name}님이 {time}에 퇴근했습니다.\" 반환\n",
    "2. 메인 스크립트에서 `attendance_module.py`를 불러와 아래와 같이 출력하세요:\n",
    "\"다람쥐님이 9:00에 출근했습니다.\"\n",
    "\"다람쥐님이 18:00에 퇴근했습니다.\""
   ]
  },
  {
   "cell_type": "markdown",
   "metadata": {},
   "source": [
    "### 문제 3: **다람쥐의 업무 진행 모듈**\n",
    "\n",
    "다람쥐는 팀에서 업무 진행 상황을 기록하는 프로그램을 작성하려 합니다. `task_module.py`를 생성하고 이를 사용해 아래 요구사항을 구현하세요.\n",
    "\n",
    "1. **`task_module.py` 내용**:\n",
    "    - 함수 `start_task(task_name)`: \"작업 '{task_name}'이(가) 시작되었습니다.\" 반환\n",
    "    - 함수 `complete_task(task_name)`: \"작업 '{task_name}'이(가) 완료되었습니다.\" 반환\n",
    "2. 메인 스크립트에서 `task_module.py`를 불러와 아래와 같이 출력하세요:\n",
    "\"작업 '코드 리뷰'이(가) 시작되었습니다.\"\n",
    "\"작업 '코드 리뷰'이(가) 완료되었습니다.\""
   ]
  },
  {
   "cell_type": "markdown",
   "metadata": {},
   "source": [
    "### 문제 4: **내장 모듈을 활용한 다람쥐의 업무 효율성 계산**\n",
    "\n",
    "다람쥐는 자신의 업무 효율성을 계산하려고 합니다. `math` 모듈을 사용하여 아래 요구사항을 구현하세요.\n",
    "\n",
    "1. 매일 처리한 업무량을 기록한 배열이 [10, 12, 8, 15, 9]라면 평균 업무량을 출력하세요.\n",
    "2. 평균 업무량보다 많이 처리한 날의 개수를 계산하세요."
   ]
  },
  {
   "cell_type": "code",
   "execution_count": 17,
   "metadata": {},
   "outputs": [
    {
     "name": "stdout",
     "output_type": "stream",
     "text": [
      "10.8\n",
      "11\n",
      "2\n",
      "평균 업무량보다 많이 처리한 날: 2\n"
     ]
    },
    {
     "data": {
      "text/plain": [
       "'\\ndef task_num():\\n    return sum,len\\n\\nprint(task_num())\\n'"
      ]
     },
     "execution_count": 17,
     "metadata": {},
     "output_type": "execute_result"
    }
   ],
   "source": [
    "import math\n",
    "\n",
    "# 1\n",
    "works = [10, 12, 8, 15, 9]\n",
    "work_avg = sum(works) / len(works)\n",
    "print(work_avg)\n",
    "\n",
    "work_avg = math.ceil(work_avg)\n",
    "# work_avg = math.floor(work_avg)\n",
    "print(work_avg)\n",
    "\n",
    "# 2\n",
    "''' \n",
    "count = 0\n",
    "for i in works: \n",
    "    if i > work_avg:\n",
    "        count += 1\n",
    "        '''\n",
    "\n",
    "count = sum(1 for work_time in works if work_time > work_avg)    # 조건을 통과하면 1이 계속 생김 / 그 1을 sum 해서 결과값을 내놓음\n",
    "\n",
    "print(count)\n",
    "print(f\"평균 업무량보다 많이 처리한 날: {count}\")\n",
    "\n",
    "'''\n",
    "def task_num():\n",
    "    sum \n",
    "    return sum,len\n",
    "\n",
    "print(task_num())\n",
    "'''\n"
   ]
  },
  {
   "cell_type": "markdown",
   "metadata": {},
   "source": [
    "### 문제 5: **내장 모듈을 활용한 다람쥐의 업무 보고서 작성**\n",
    "\n",
    "다람쥐는 팀원의 업무 보고서를 작성하려고 합니다. `datetime` 모듈을 사용하여 현재 날짜와 시간을 포함한 보고서를 생성하세요.\n",
    "\n",
    "1. 현재 날짜와 시간. 팀원 이름과 작업 내용을 출력하세요.\n",
    "[2024-12-24 08:55:31] 다람쥐님이 작업 '코드 리뷰'을(를) 완료했습니다.\n",
    "\n"
   ]
  },
  {
   "cell_type": "code",
   "execution_count": 40,
   "metadata": {},
   "outputs": [
    {
     "name": "stdout",
     "output_type": "stream",
     "text": [
      "2024-12-26 10:52:26.868082, 다람쥐님이 작업 코드 리뷰을(를) 완료했습니다.\n"
     ]
    }
   ],
   "source": [
    "import datetime\n",
    "\n",
    "#def report():\n",
    "    #return now,name,work\n",
    "\n",
    "now = datetime.datetime.now()\n",
    "name = '다람쥐'\n",
    "work = '코드 리뷰'\n",
    "\n",
    "#report()\n",
    "print(f\"{now}, {name}님이 작업 {work}을(를) 완료했습니다.\")"
   ]
  },
  {
   "cell_type": "code",
   "execution_count": null,
   "metadata": {},
   "outputs": [],
   "source": [
    "from datetime import datetime\n",
    "\n",
    "print(f\"[{datetime.now().strftime('%Y-%M-%d %H:%')}]\")"
   ]
  },
  {
   "cell_type": "code",
   "execution_count": 39,
   "metadata": {},
   "outputs": [
    {
     "ename": "SyntaxError",
     "evalue": "unterminated f-string literal (detected at line 9) (1223971561.py, line 9)",
     "output_type": "error",
     "traceback": [
      "\u001b[1;36m  Cell \u001b[1;32mIn[39], line 9\u001b[1;36m\u001b[0m\n\u001b[1;33m    print(f\"{now}, {name}님이 작업 {work}을(를) 완료했습니다.)\u001b[0m\n\u001b[1;37m          ^\u001b[0m\n\u001b[1;31mSyntaxError\u001b[0m\u001b[1;31m:\u001b[0m unterminated f-string literal (detected at line 9)\n"
     ]
    }
   ],
   "source": [
    "import datetime\n",
    "\n",
    "def report():\n",
    "    \n",
    "    now = datetime.datetime.now()\n",
    "    name = '다람쥐'\n",
    "    work = '코드 리뷰'\n",
    "    \n",
    "    print(f\"{now}, {name}님이 작업 {work}을(를) 완료했습니다.)\n",
    "\n",
    "report()\n"
   ]
  },
  {
   "cell_type": "code",
   "execution_count": null,
   "metadata": {},
   "outputs": [],
   "source": []
  },
  {
   "cell_type": "markdown",
   "metadata": {},
   "source": [
    "---\n",
    "# 02. 패키지"
   ]
  },
  {
   "cell_type": "code",
   "execution_count": null,
   "metadata": {},
   "outputs": [],
   "source": [
    "절대 경로 / 상대 경로"
   ]
  },
  {
   "cell_type": "code",
   "execution_count": 42,
   "metadata": {},
   "outputs": [
    {
     "name": "stdout",
     "output_type": "stream",
     "text": [
      "Collecting numpy\n",
      "  Downloading numpy-2.2.1-cp312-cp312-win_amd64.whl.metadata (60 kB)\n",
      "Downloading numpy-2.2.1-cp312-cp312-win_amd64.whl (12.6 MB)\n",
      "   ---------------------------------------- 0.0/12.6 MB ? eta -:--:--\n",
      "   -------------------------- ------------- 8.4/12.6 MB 47.2 MB/s eta 0:00:01\n",
      "   ---------------------------------------- 12.6/12.6 MB 49.4 MB/s eta 0:00:00\n",
      "Installing collected packages: numpy\n",
      "Successfully installed numpy-2.2.1\n",
      "Collecting pandas\n",
      "  Downloading pandas-2.2.3-cp312-cp312-win_amd64.whl.metadata (19 kB)\n",
      "Requirement already satisfied: numpy>=1.26.0 in c:\\users\\playdata\\anaconda3\\envs\\pystudy_env\\lib\\site-packages (from pandas) (2.2.1)\n",
      "Requirement already satisfied: python-dateutil>=2.8.2 in c:\\users\\playdata\\anaconda3\\envs\\pystudy_env\\lib\\site-packages (from pandas) (2.9.0.post0)\n",
      "Collecting pytz>=2020.1 (from pandas)\n",
      "  Downloading pytz-2024.2-py2.py3-none-any.whl.metadata (22 kB)\n",
      "Collecting tzdata>=2022.7 (from pandas)\n",
      "  Downloading tzdata-2024.2-py2.py3-none-any.whl.metadata (1.4 kB)\n",
      "Requirement already satisfied: six>=1.5 in c:\\users\\playdata\\anaconda3\\envs\\pystudy_env\\lib\\site-packages (from python-dateutil>=2.8.2->pandas) (1.17.0)\n",
      "Downloading pandas-2.2.3-cp312-cp312-win_amd64.whl (11.5 MB)\n",
      "   ---------------------------------------- 0.0/11.5 MB ? eta -:--:--\n",
      "   -------------------------------------- - 11.0/11.5 MB 52.7 MB/s eta 0:00:01\n",
      "   ---------------------------------------- 11.5/11.5 MB 47.8 MB/s eta 0:00:00\n",
      "Downloading pytz-2024.2-py2.py3-none-any.whl (508 kB)\n",
      "Downloading tzdata-2024.2-py2.py3-none-any.whl (346 kB)\n",
      "Installing collected packages: pytz, tzdata, pandas\n",
      "Successfully installed pandas-2.2.3 pytz-2024.2 tzdata-2024.2\n"
     ]
    }
   ],
   "source": [
    "!pip install numpy\n",
    "!pip install pandas"
   ]
  },
  {
   "cell_type": "code",
   "execution_count": 43,
   "metadata": {},
   "outputs": [
    {
     "name": "stdout",
     "output_type": "stream",
     "text": [
      "Package            Version\n",
      "------------------ -----------\n",
      "asttokens          3.0.0\n",
      "colorama           0.4.6\n",
      "comm               0.2.2\n",
      "debugpy            1.6.7\n",
      "decorator          5.1.1\n",
      "exceptiongroup     1.2.2\n",
      "executing          2.1.0\n",
      "importlib_metadata 8.5.0\n",
      "ipykernel          6.29.5\n",
      "ipython            8.30.0\n",
      "jedi               0.19.2\n",
      "jupyter_client     8.6.3\n",
      "jupyter_core       5.7.2\n",
      "matplotlib-inline  0.1.7\n",
      "nest_asyncio       1.6.0\n",
      "numpy              2.2.1\n",
      "packaging          24.2\n",
      "pandas             2.2.3\n",
      "parso              0.8.4\n",
      "pickleshare        0.7.5\n",
      "pip                24.2\n",
      "platformdirs       4.3.6\n",
      "prompt_toolkit     3.0.48\n",
      "psutil             5.9.0\n",
      "pure_eval          0.2.3\n",
      "Pygments           2.18.0\n",
      "python-dateutil    2.9.0.post0\n",
      "pytz               2024.2\n",
      "pywin32            305.1\n",
      "pyzmq              25.1.2\n",
      "setuptools         75.1.0\n",
      "six                1.17.0\n",
      "stack_data         0.6.3\n",
      "tornado            6.4.2\n",
      "traitlets          5.14.3\n",
      "typing_extensions  4.12.2\n",
      "tzdata             2024.2\n",
      "wcwidth            0.2.13\n",
      "wheel              0.44.0\n",
      "zipp               3.21.0\n"
     ]
    }
   ],
   "source": [
    "!pip list   # 프로그램 설치 됬는지 확인!"
   ]
  },
  {
   "cell_type": "code",
   "execution_count": null,
   "metadata": {},
   "outputs": [],
   "source": [
    "import numpy\n",
    "import pandas"
   ]
  },
  {
   "cell_type": "code",
   "execution_count": 7,
   "metadata": {},
   "outputs": [],
   "source": [
    "!pip freeze > requirements.txt"
   ]
  },
  {
   "cell_type": "code",
   "execution_count": 12,
   "metadata": {},
   "outputs": [
    {
     "name": "stdout",
     "output_type": "stream",
     "text": [
      "Processing c:\\home\\conda\\feedstock_root\\build_artifacts\\asttokens_1733250440834\\work (from -r requirements.txt (line 1))\n",
      "Note: you may need to restart the kernel to use updated packages.\n"
     ]
    },
    {
     "name": "stderr",
     "output_type": "stream",
     "text": [
      "  ERROR: Cannot unpack file C:\\home\\conda\\feedstock_root\\build_artifacts\\asttokens_1733250440834\\work (downloaded from C:\\Users\\Playdata\\AppData\\Local\\Temp\\pip-install-31c0r8v8\\asttokens_9b58cc56363c49528c28c2fd67f2332b, content-type: None); cannot detect archive format\n",
      "ERROR: Cannot determine archive format of C:\\Users\\Playdata\\AppData\\Local\\Temp\\pip-install-31c0r8v8\\asttokens_9b58cc56363c49528c28c2fd67f2332b\n"
     ]
    }
   ],
   "source": [
    "pip install -r requirements.txt"
   ]
  },
  {
   "cell_type": "code",
   "execution_count": 13,
   "metadata": {},
   "outputs": [
    {
     "name": "stdout",
     "output_type": "stream",
     "text": [
      "Collecting numpy\n",
      "  Using cached numpy-2.2.1-cp312-cp312-win_amd64.whl.metadata (60 kB)\n",
      "Using cached numpy-2.2.1-cp312-cp312-win_amd64.whl (12.6 MB)\n",
      "Installing collected packages: numpy\n",
      "Successfully installed numpy-2.2.1\n",
      "Note: you may need to restart the kernel to use updated packages.\n"
     ]
    }
   ],
   "source": [
    "pip install numpy\n"
   ]
  },
  {
   "cell_type": "code",
   "execution_count": 24,
   "metadata": {},
   "outputs": [
    {
     "name": "stdout",
     "output_type": "stream",
     "text": [
      "3.5\n"
     ]
    }
   ],
   "source": [
    "import numpy # as np\n",
    "num = [1,2,3,4,5,6]\n",
    "avg = numpy.mean(num)\n",
    "print(avg)"
   ]
  },
  {
   "cell_type": "code",
   "execution_count": 23,
   "metadata": {},
   "outputs": [
    {
     "ename": "SyntaxError",
     "evalue": "invalid syntax (1393965636.py, line 1)",
     "output_type": "error",
     "traceback": [
      "\u001b[1;36m  Cell \u001b[1;32mIn[23], line 1\u001b[1;36m\u001b[0m\n\u001b[1;33m    python -m venv new_env\u001b[0m\n\u001b[1;37m              ^\u001b[0m\n\u001b[1;31mSyntaxError\u001b[0m\u001b[1;31m:\u001b[0m invalid syntax\n"
     ]
    }
   ],
   "source": [
    "python -m venv new_env  # 환경 만들기 이름:new_env\n",
    "cd new_env/Scripts\n",
    "dir\n",
    "activate\n",
    "pip install -r requirements.txt"
   ]
  },
  {
   "cell_type": "markdown",
   "metadata": {},
   "source": [
    "# 웹 크롤링 (프로젝트1)\n",
    "\n",
    "  - 데이터베이스 구축"
   ]
  }
 ],
 "metadata": {
  "kernelspec": {
   "display_name": "pystudy_test",
   "language": "python",
   "name": "python3"
  },
  "language_info": {
   "codemirror_mode": {
    "name": "ipython",
    "version": 3
   },
   "file_extension": ".py",
   "mimetype": "text/x-python",
   "name": "python",
   "nbconvert_exporter": "python",
   "pygments_lexer": "ipython3",
   "version": "3.12.8"
  }
 },
 "nbformat": 4,
 "nbformat_minor": 2
}
