{
 "cells": [
  {
   "cell_type": "markdown",
   "metadata": {},
   "source": [
    "매서드 = 함수\n",
    "  특정 자료형에 의존해서 이를 대해서만 동작함\n",
    "  변수명 .이 항상 붙음\n",
    "\n",
    "\n",
    "\n",
    "class = 사용자 정의 자료형 /  코드          \n",
    "   인스턴스는 클래스 가지고 변경할 수 잇는 걸로 만든 거\n",
    " class 가 가지는 함수가 매서드\n",
    "\n",
    "파이썬은 객체 지향                            VS 절차 지향 c언어\n",
    " 각자 객체들이 하는 기능을 추상화해서 묶음!         무조건 위에서 아래로로\n",
    "                      추상화 = 공통점\n",
    "\n",
    "속성, 기능을 공통적으로 추상화한 것이 클래스!\n",
    "\n",
    "\n"
   ]
  },
  {
   "cell_type": "code",
   "execution_count": null,
   "metadata": {},
   "outputs": [],
   "source": [
    "class Person:\n",
    "    national = 'korea'    # 속성\n",
    "    \n",
    "    def greeting(self):                    # 기능\n",
    "        return 'Hello. This is Python'  "
   ]
  },
  {
   "cell_type": "markdown",
   "metadata": {},
   "source": [
    "class Person:    \n",
    "    national = 'korea'\n",
    "    language = 'korean'\n",
    "    \n",
    "    def greeting(self):     # self는 객체 자신 / class 자신 X\n",
    "        return '안녕하세요'     # self는 주소값에 해당당\n",
    "    \n",
    "    def information(self):\n",
    "        return \"I'm from \" + self.national + \" and I use \" + self.language\n",
    "     \n",
    "    def favorite(self, color):   # 다른 매개 변수 받아서 씀\n",
    "        return \"I love \" + color"
   ]
  },
  {
   "cell_type": "markdown",
   "metadata": {},
   "source": [
    "# 생성자\n",
    "객체가 생성될 때 자동으로 호출되는 메서드\n",
    "인스턴스 속성을 초기화 = 변수의 생성\n",
    "\n",
    "\n"
   ]
  },
  {
   "cell_type": "code",
   "execution_count": null,
   "metadata": {},
   "outputs": [],
   "source": [
    "class Person:    \n",
    "    national = 'korea'\n",
    "    language = 'korean'\n",
    "    \n",
    "    def __init__(self, name, age):  # __init__ 생성자\n",
    "        self.name = name\n",
    "        self.age = age\n",
    "    \n",
    "    def greeting(self):\n",
    "        return '안녕하세요'\n",
    "    \n",
    "    def information(self):\n",
    "        return \"I'm from \" + self.national + \" and I use \" + self.language + \". My name is \" + self.name + \". I'm \" + str(self.age)\n",
    "    \n",
    "    def favorite(self, color):\n",
    "        return \"I love \" + color"
   ]
  },
  {
   "cell_type": "markdown",
   "metadata": {},
   "source": []
  }
 ],
 "metadata": {
  "kernelspec": {
   "display_name": "pystudy_env",
   "language": "python",
   "name": "python3"
  },
  "language_info": {
   "codemirror_mode": {
    "name": "ipython",
    "version": 3
   },
   "file_extension": ".py",
   "mimetype": "text/x-python",
   "name": "python",
   "nbconvert_exporter": "python",
   "pygments_lexer": "ipython3",
   "version": "3.12.8"
  }
 },
 "nbformat": 4,
 "nbformat_minor": 2
}
