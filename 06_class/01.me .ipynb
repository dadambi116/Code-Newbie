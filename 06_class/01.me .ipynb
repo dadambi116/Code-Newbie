{
 "cells": [
  {
   "cell_type": "markdown",
   "metadata": {},
   "source": [
    "매서드 = 함수\n",
    "  특정 자료형에 의존해서 이를 대해서만 동작함\n",
    "  변수명 .이 항상 붙음\n",
    "\n",
    "\n",
    "\n",
    "class = 사용자 정의 자료형 /  코드          \n",
    "   인스턴스는 클래스 가지고 변경할 수 잇는 걸로 만든 거\n",
    " class 가 가지는 함수가 매서드\n",
    "\n",
    "파이썬은 객체 지향                            VS 절차 지향 c언어\n",
    " 각자 객체들이 하는 기능을 추상화해서 묶음!         무조건 위에서 아래로로\n",
    "                      추상화 = 공통점\n",
    "\n",
    "속성, 기능을 공통적으로 추상화한 것이 클래스!\n",
    "\n",
    "\n"
   ]
  },
  {
   "cell_type": "code",
   "execution_count": null,
   "metadata": {},
   "outputs": [],
   "source": [
    "class Person:\n",
    "    national = 'korea'    # 속성\n",
    "    \n",
    "    def greeting(self):                    # 기능\n",
    "        return 'Hello. This is Python'     # 첫번째 매게변수로 self!"
   ]
  },
  {
   "cell_type": "markdown",
   "metadata": {},
   "source": [
    "class Person:    \n",
    "    national = 'korea'\n",
    "    language = 'korean'\n",
    "    \n",
    "    def greeting(self):     # self는 객체 자신 / class 자신 X\n",
    "        return '안녕하세요'     # self는 주소값에 해당당\n",
    "    \n",
    "    def information(self):\n",
    "        return \"I'm from \" + self.national + \" and I use \" + self.language\n",
    "     \n",
    "    def favorite(self, color):   # 다른 매개 변수 받아서 씀\n",
    "        return \"I love \" + color"
   ]
  },
  {
   "cell_type": "markdown",
   "metadata": {},
   "source": [
    "# 생성자\n",
    "객체가 생성될 때 자동으로 호출되는 메서드\n",
    "인스턴스 속성을 초기화 = 변수의 생성\n",
    "\n",
    "\n"
   ]
  },
  {
   "cell_type": "code",
   "execution_count": null,
   "metadata": {},
   "outputs": [],
   "source": [
    "class Person:    \n",
    "    national = 'korea'\n",
    "    language = 'korean'\n",
    "    \n",
    "    def __init__(self, name, age):  # __init__ 생성자\n",
    "        self.name = name             # 생성자를 통해 인스턴스 만들어야 다음이 가능\n",
    "        self.age = age\n",
    "    \n",
    "    def greeting(self):\n",
    "        return '안녕하세요'\n",
    "    \n",
    "    def information(self):\n",
    "        return \"I'm from \" + self.national + \" and I use \" + self.language + \". My name is \" + self.name + \". I'm \" + str(self.age)\n",
    "    \n",
    "    def favorite(self, color):\n",
    "        return \"I love \" + color"
   ]
  },
  {
   "cell_type": "markdown",
   "metadata": {},
   "source": []
  },
  {
   "cell_type": "code",
   "execution_count": 2,
   "metadata": {},
   "outputs": [
    {
     "name": "stdout",
     "output_type": "stream",
     "text": [
      "Hello, world!\n"
     ]
    }
   ],
   "source": [
    "class Hello:   # 클래스 생성성\n",
    "\n",
    "    def greeting(self):      #매소드 생성성\n",
    "        print(\"Hello, world!\")   \n",
    "    \n",
    "a = Hello()   #객체 , 인스턴스 생성\n",
    "\n",
    "a.greeting() # 메소드 호출\n"
   ]
  },
  {
   "cell_type": "code",
   "execution_count": 5,
   "metadata": {},
   "outputs": [
    {
     "name": "stdout",
     "output_type": "stream",
     "text": [
      "저의 이름은 nirsa이고 나이는 80 주소는 인천 광역시입니다.\n"
     ]
    }
   ],
   "source": [
    "class Member: \n",
    "\n",
    "    def __init__(self,name,age,address):  #속성 생성\n",
    "        self.name = name\n",
    "        self.age = age\n",
    "        self.address = address\n",
    "    \n",
    "    def info(self):  # 매소드 생성\n",
    "        print(f\"저의 이름은 {self.name}이고 나이는 {self.age} 주소는 {self.address}입니다.\")\n",
    "\n",
    "introduce = Member('nirsa',80,'인천 광역시')  # 인스턴스 생성, init에 인자에 맞춰서 넣어줘야 함   # class Member가 호출되기 위해서는 들여쓰기 상태 안됨!\n",
    "\n",
    "    # 매소드 호출\n",
    "introduce.info()\n",
    "              "
   ]
  },
  {
   "cell_type": "code",
   "execution_count": 11,
   "metadata": {},
   "outputs": [
    {
     "name": "stdout",
     "output_type": "stream",
     "text": [
      "저의 이름은 nirsa이고 나이는 80 주소는 인천 광역시입니다.\n",
      "클래스 속성 [80]\n",
      "저의 이름은 alpha이고 나이는 68 주소는 서울 특별시입니다.\n",
      "클래스 속성성 [80, 68]\n"
     ]
    }
   ],
   "source": [
    "class Member:\n",
    "    value = []    # 여기에 10 잇으면 왜 인스턴스 속성성\n",
    "\n",
    "    def info(self,name,age,address):\n",
    "        self.name = name\n",
    "        self.age = age\n",
    "        self.address = address\n",
    "        print(f\"저의 이름은 {self.name}이고 나이는 {self.age} 주소는 {self.address}입니다.\")\n",
    "\n",
    "        Member.value.append(age)\n",
    "        print(\"클래스 속성 {}\".format(Member.value)) # 이건 왜 클래스 속성?\n",
    "\n",
    "    def info2(self,name,age,address):\n",
    "        self.name = name\n",
    "        self.age = age\n",
    "        self.address = address\n",
    "        print(f\"저의 이름은 {self.name}이고 나이는 {self.age} 주소는 {self.address}입니다.\")\n",
    "\n",
    "        Member.value.append(age)  # 이거 없으면 68이 반영이 안 됨\n",
    "        print('클래스 속성 {}'.format(Member.value))\n",
    "\n",
    "introduce = Member()\n",
    "\n",
    "introduce.info('nirsa',80,'인천 광역시')\n",
    "introduce.info2(\"alpha\",68,'서울 특별시')"
   ]
  },
  {
   "cell_type": "markdown",
   "metadata": {},
   "source": [
    "----\n",
    "비공개 속성\n",
    "\n",
    "self.__  와 같이 언더바 두개로 시작"
   ]
  },
  {
   "cell_type": "code",
   "execution_count": null,
   "metadata": {},
   "outputs": [],
   "source": [
    "#"
   ]
  }
 ],
 "metadata": {
  "kernelspec": {
   "display_name": "pystudy_env",
   "language": "python",
   "name": "python3"
  },
  "language_info": {
   "codemirror_mode": {
    "name": "ipython",
    "version": 3
   },
   "file_extension": ".py",
   "mimetype": "text/x-python",
   "name": "python",
   "nbconvert_exporter": "python",
   "pygments_lexer": "ipython3",
   "version": "3.12.8"
  }
 },
 "nbformat": 4,
 "nbformat_minor": 2
}
