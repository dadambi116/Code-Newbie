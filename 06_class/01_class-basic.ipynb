{
 "cells": [
  {
   "cell_type": "markdown",
   "metadata": {},
   "source": [
    "### 클래스"
   ]
  },
  {
   "cell_type": "code",
   "execution_count": 17,
   "metadata": {},
   "outputs": [],
   "source": [
    "class Student:\n",
    "\n",
    "    # 1. 클래스 속성 - 변수 생성하듯이  \n",
    "    #  - 모든 인스턴스가 공유유\n",
    "    # - 클래스 속성과 인스턴스 속성 같은 걸 쓸 수 있는데, 인스턴스가 우선시됨됨\n",
    "    dream = '취업'\n",
    "\n",
    "    # 2. 생성자  - 인스턴스 만들기 위해 생성하는 것 - 쓰지 않으면 암묵적으로 존재한다고 가정\n",
    "       # name과 phone은 인스턴스의 속성 \n",
    "    def __init__(self,name,phone):\n",
    "        self.name = name            # 필드\n",
    "        self.phone = phone\n",
    "\n",
    "\n",
    "    # 3. 메서드 (자료형에 의존해서 쓰는 함수) # 반드시 매게 변수에 self 넣어야 함   - class 속성 안쪽에\n",
    "                       # self 안 쓸 경우 받을 argument 없다고 뜸\n",
    "    def study(self):\n",
    "        print(\"오늘도 열심히 공부하는 9기 학생!\")\n"
   ]
  },
  {
   "cell_type": "code",
   "execution_count": 21,
   "metadata": {},
   "outputs": [
    {
     "name": "stdout",
     "output_type": "stream",
     "text": [
      "취업\n",
      "남윤진\n",
      "01049439778\n",
      "오늘도 열심히 공부하는 9기 학생!\n"
     ]
    }
   ],
   "source": [
    "student = Student('남윤진','01049439778')\n",
    "\n",
    "print(student.dream)\n",
    "print(student.name)\n",
    "print(student.phone)\n",
    "student.study()"
   ]
  },
  {
   "cell_type": "code",
   "execution_count": 22,
   "metadata": {},
   "outputs": [
    {
     "ename": "TypeError",
     "evalue": "Student.__init__() missing 2 required positional arguments: 'name' and 'phone'",
     "output_type": "error",
     "traceback": [
      "\u001b[1;31m---------------------------------------------------------------------------\u001b[0m",
      "\u001b[1;31mTypeError\u001b[0m                                 Traceback (most recent call last)",
      "Cell \u001b[1;32mIn[22], line 1\u001b[0m\n\u001b[1;32m----> 1\u001b[0m student \u001b[38;5;241m=\u001b[39m \u001b[43mStudent\u001b[49m\u001b[43m(\u001b[49m\u001b[43m)\u001b[49m   \u001b[38;5;66;03m# 주소값이 들어감   # 호출되면 생성자를 부름 \u001b[39;00m\n\u001b[0;32m      2\u001b[0m student_two \u001b[38;5;241m=\u001b[39m Student()\n\u001b[0;32m      4\u001b[0m \u001b[38;5;28mprint\u001b[39m(student)\n",
      "\u001b[1;31mTypeError\u001b[0m: Student.__init__() missing 2 required positional arguments: 'name' and 'phone'"
     ]
    }
   ],
   "source": [
    "student = Student()   # 주소값이 들어감   # 호출되면 생성자를 부름 \n",
    "student_two = Student()\n",
    "\n",
    "print(student)\n",
    "print(student_two)\n"
   ]
  },
  {
   "cell_type": "code",
   "execution_count": 13,
   "metadata": {},
   "outputs": [
    {
     "name": "stdout",
     "output_type": "stream",
     "text": [
      "취업\n",
      "오늘도 열심히 공부하는 9기 학생!\n"
     ]
    }
   ],
   "source": [
    "student = Student()\n",
    "\n",
    "print(student.dream)  # 속성에는 접근해서 값을 가져오는 거(print)까지지\n",
    "student.study() # 자료.   점 찍고 사용  # 내부적으로 self 가져옴옴"
   ]
  },
  {
   "cell_type": "markdown",
   "metadata": {},
   "source": []
  },
  {
   "cell_type": "code",
   "execution_count": 28,
   "metadata": {},
   "outputs": [],
   "source": [
    "class Student:\n",
    "\n",
    "    # 1. 클래스 속성 - 변수 생성하듯이\n",
    "    dream = ['취업']   # 배열 속성성\n",
    "    name = ''\n",
    "    phone = ''\n",
    "\n",
    "    # 3. 메서드 (자료형에 의존해서 쓰는 함수) # 반드시 매게 변수에 self 넣어야 함\n",
    "                       # self 안 쓸 경우 받을 argument 없다고 뜸\n",
    "    def study(self):\n",
    "        print(\"오늘도 열심히 공부하는 9기 학생!\")\n",
    "\n",
    "    def introduce(self):\n",
    "        print(f\"저는 {self.name}이구요. 전화번호는 {self.phone}입니다. 제가 이루고 싶은 목표는! {self.dream}\")\n",
    "    \n"
   ]
  },
  {
   "cell_type": "code",
   "execution_count": 30,
   "metadata": {},
   "outputs": [
    {
     "name": "stdout",
     "output_type": "stream",
     "text": [
      "저는 이구요. 전화번호는 입니다. 제가 이루고 싶은 목표는! ['취업']\n",
      "저는 남윤진이구요. 전화번호는 01049439778입니다. 제가 이루고 싶은 목표는! ['취업', '창업']\n",
      "저는 최재동이구요. 전화번호는 01011112222입니다. 제가 이루고 싶은 목표는! ['취업', '창업']\n",
      "저는 남윤진이구요. 전화번호는 01049439778입니다. 제가 이루고 싶은 목표는! ['취업', '창업']\n"
     ]
    }
   ],
   "source": [
    "student1 = Student()\n",
    "student2 = Student()\n",
    "\n",
    "student1.introduce()\n",
    "\n",
    "student1.name = '남윤진'         #공간으로 접근 # 인스턴스 속성이라 2와 공유 X\n",
    "student1.phone = '01049439778'\n",
    "student1.dream.append('창업')    # class의 기본값이 수정되는 경우, 2와 공유 O\n",
    "student1.introduce()\n",
    "\n",
    "student2.name = '최재동'           \n",
    "student2.phone = '01011112222'\n",
    "student2.introduce()\n",
    "\n",
    "student1.introduce()"
   ]
  },
  {
   "cell_type": "markdown",
   "metadata": {},
   "source": []
  },
  {
   "cell_type": "code",
   "execution_count": 34,
   "metadata": {},
   "outputs": [],
   "source": [
    "class Student:\n",
    "\n",
    "    # 1. 생성자\n",
    "    def __init__(self,name,phone):\n",
    "        self.dream = ['취업']   # 배열 속성\n",
    "        self.name = name\n",
    "        self.phone = phone\n",
    "\n",
    "    # 3. 메서드 (자료형에 의존해서 쓰는 함수) # 반드시 매게 변수에 self 넣어야 함\n",
    "                       # self 안 쓸 경우 받을 argument 없다고 뜸\n",
    "    def study(self):\n",
    "        print(\"오늘도 열심히 공부하는 9기 학생!\")\n",
    "\n",
    "    def introduce(self):\n",
    "        print(f\"저는 {self.name}이구요. 전화번호는 {self.phone}입니다. 제가 이루고 싶은 목표는! {self.dream}\")"
   ]
  },
  {
   "cell_type": "code",
   "execution_count": 35,
   "metadata": {},
   "outputs": [
    {
     "name": "stdout",
     "output_type": "stream",
     "text": [
      "저는 남윤진이구요. 전화번호는 01049439778입니다. 제가 이루고 싶은 목표는! ['취업']\n",
      "저는 남윤진이구요. 전화번호는 01049439778입니다. 제가 이루고 싶은 목표는! ['취업', '창업']\n",
      "저는 조민훈이구요. 전화번호는 01099998888입니다. 제가 이루고 싶은 목표는! ['취업']\n",
      "저는 남윤진이구요. 전화번호는 01049439778입니다. 제가 이루고 싶은 목표는! ['취업', '창업']\n"
     ]
    }
   ],
   "source": [
    "student1 = Student('남윤진','01049439778')\n",
    "student2 = Student('조민훈','01099998888')\n",
    "\n",
    "student1.introduce()\n",
    "\n",
    "student1.dream.append('창업')   \n",
    "student1.introduce()\n",
    "\n",
    "\n",
    "student2.introduce() # 1에 append된 값이 영향을 주지 않음음\n",
    "\n",
    "student1.introduce()"
   ]
  }
 ],
 "metadata": {
  "kernelspec": {
   "display_name": "pystudy_env",
   "language": "python",
   "name": "python3"
  },
  "language_info": {
   "codemirror_mode": {
    "name": "ipython",
    "version": 3
   },
   "file_extension": ".py",
   "mimetype": "text/x-python",
   "name": "python",
   "nbconvert_exporter": "python",
   "pygments_lexer": "ipython3",
   "version": "3.12.8"
  }
 },
 "nbformat": 4,
 "nbformat_minor": 2
}
