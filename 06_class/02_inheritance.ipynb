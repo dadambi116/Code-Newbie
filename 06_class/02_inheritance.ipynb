{
 "cells": [
  {
   "cell_type": "markdown",
   "metadata": {},
   "source": [
    "##상속"
   ]
  },
  {
   "cell_type": "markdown",
   "metadata": {},
   "source": [
    "예시 "
   ]
  },
  {
   "cell_type": "code",
   "execution_count": 1,
   "metadata": {},
   "outputs": [
    {
     "name": "stdout",
     "output_type": "stream",
     "text": [
      "Hello. This is Python\n"
     ]
    }
   ],
   "source": [
    "class Person:\n",
    "    national = 'korea'\n",
    "    \n",
    "    def greeting(self):\n",
    "        return 'Hello. This is Python'\n",
    "\n",
    "class Student(Person):\n",
    "    pass\n",
    "\n",
    "student = Student()\n",
    "print(student.greeting())    # Hello. This is Python\n"
   ]
  },
  {
   "cell_type": "code",
   "execution_count": 15,
   "metadata": {},
   "outputs": [],
   "source": [
    "class Person:\n",
    "    def __init__(self,name,phone):\n",
    "        self.name = name\n",
    "    \n",
    "    def __str__(self):    # 언더바 두개 : 제공되는 값이 있는 것 (오버라이딩 의미미)\n",
    "        return f\"<person {self.name}>\"\n",
    "    \n",
    "    "
   ]
  },
  {
   "cell_type": "code",
   "execution_count": 16,
   "metadata": {},
   "outputs": [],
   "source": [
    "class Student(Person):\n",
    "    \n",
    "    def __init__(self,name,phone,hobby):   # 부모 생성자 호출\n",
    "         # 1. 부모 클래스명.__init__(self,...)\n",
    "         # Person.__init__(self,name)   # 직관적으로 호출, name 넘겨주기 # self 도 같이 넘겨줘야함! 인자를 모두 채워서 호출\n",
    "         # 2. super().__init__(...)\n",
    "        super().__init__(name,phone)    # 인자 받을 것만 호출  \n",
    "            # 매개 변수의 갯수가 많아질 경우 부모의 init을 호출하는 것이 더 간단단\n",
    "        self.hobby = hobby\n",
    "\n",
    "    \n",
    "\n",
    "\n"
   ]
  },
  {
   "cell_type": "code",
   "execution_count": 14,
   "metadata": {},
   "outputs": [
    {
     "name": "stdout",
     "output_type": "stream",
     "text": [
      "홍길동\n",
      "<person 홍길동>\n",
      "김둘리 01000001111 파이썬 공부하기\n",
      "<person 김둘리>\n",
      "박또치 01022223333 열심히 공부하기\n",
      "<person 박또치>\n"
     ]
    }
   ],
   "source": [
    "p1 = Person('홍길동')\n",
    "print(p1.name)\n",
    "print(p1)\n",
    "\n",
    "s1 = Student('김둘리','01000001111','파이썬 공부하기')\n",
    "s2 = Student(\"박또치\",'01022223333','열심히 공부하기')\n",
    "print(s1.name,s1.phone,s1.hobby)\n",
    "print(s1)\n",
    "print(s2.name,s2.phone,s2.hobby)\n",
    "print(s2)"
   ]
  },
  {
   "cell_type": "markdown",
   "metadata": {},
   "source": [
    "##다중 상속"
   ]
  },
  {
   "cell_type": "code",
   "execution_count": 28,
   "metadata": {},
   "outputs": [
    {
     "name": "stdout",
     "output_type": "stream",
     "text": [
      "10 2 True 2\n",
      "저는 사람입니다.\n"
     ]
    }
   ],
   "source": [
    "class Person:\n",
    "    fingers = 10\n",
    "    eyes = 2\n",
    "\n",
    "    def introduce(self):\n",
    "        return \"저는 사람입니다.\"\n",
    "    \n",
    "class Animal:\n",
    "    fur = True\n",
    "\n",
    "    def introduce(self):\n",
    "        return \"저는 동물입니다.\"\n",
    "    \n",
    "class BanInBanSu(Person,Animal):\n",
    "    pass\n",
    "\n",
    "b1 = BanInBanSu()\n",
    "\n",
    "print(b1.fingers,b1.eyes,b1.fur)\n",
    "print(b1.introduce())   # 왼쪽인 person 부터 탐색해서 함수 적용   # 순서 바뀔 경우 introduce 바뀜\n",
    "\n",
    "\n"
   ]
  },
  {
   "cell_type": "markdown",
   "metadata": {},
   "source": [
    "-----\n",
    " 오버라이딩\n"
   ]
  },
  {
   "cell_type": "code",
   "execution_count": 30,
   "metadata": {},
   "outputs": [],
   "source": [
    "class Animal:\n",
    "    species = '동물'\n",
    "\n",
    "    def introduce(self):\n",
    "        print(\"동물의 왕국에 오신 것을 환영합니다.\")\n",
    "\n",
    "class Mammalia(Animal):\n",
    "    species = '포유류'\n",
    "\n",
    "    def has_far(self):\n",
    "        return True\n",
    "\n",
    "class Squirrel(Mammalia):\n",
    "    name = '다람쥐'\n",
    "\n",
    "    def eat(self):\n",
    "        print(\"도토리는 정말 맛있어 냠냠냠\")\n",
    "    \n",
    "class SquirrelTeacher(Squirrel):\n",
    "    def introduce(self):\n",
    "        print(\"안녕하세요 다람쥐 강사입니다!\")\n",
    "\n"
   ]
  },
  {
   "cell_type": "code",
   "execution_count": 44,
   "metadata": {},
   "outputs": [
    {
     "name": "stdout",
     "output_type": "stream",
     "text": [
      "안녕하세요 다람쥐 강사입니다!\n",
      "다람쥐\n",
      "도토리는 정말 맛있어 냠냠냠\n",
      "포유류\n",
      "True\n",
      "포유류\n",
      "안녕하세요 다람쥐 강사입니다!\n"
     ]
    }
   ],
   "source": [
    "st = SquirrelTeacher()\n",
    "st.introduce()\n",
    "\n",
    "print(st.name)\n",
    "st.eat()\n",
    "\n",
    "print(st.species)\n",
    "print(st.has_far()) #  return 값을 줫기 때문에 print 필요\n",
    "\n",
    "print(st.species)   # Animal 함수가 호출 되지 않음 ,\n",
    "st.introduce()\n",
    "\n",
    "2"
   ]
  },
  {
   "cell_type": "code",
   "execution_count": 43,
   "metadata": {},
   "outputs": [
    {
     "data": {
      "text/plain": [
       "(__main__.SquirrelTeacher,\n",
       " __main__.Squirrel,\n",
       " __main__.Mammalia,\n",
       " __main__.Animal,\n",
       " object)"
      ]
     },
     "execution_count": 43,
     "metadata": {},
     "output_type": "execute_result"
    }
   ],
   "source": [
    "SquirrelTeacher.__mro__ # 여러개 상속 받고 있을 때 기능을 탐색하는 순서 보여줌   # 상속이 없는 함수는 object를 상속속\n",
    "\n"
   ]
  },
  {
   "cell_type": "markdown",
   "metadata": {},
   "source": [
    "____\n",
    "Question"
   ]
  },
  {
   "cell_type": "markdown",
   "metadata": {},
   "source": [
    "### 문제 1: **기본 상속을 활용한 클래스 생성**\n",
    "\n",
    "다람쥐는 이직을 준비하며 새로운 직업군을 탐색하고 있습니다. 다람쥐의 기본적인 정보를 담는 `Person` 클래스를 만들고, 이를 상속받는 `Candidate` 클래스를 생성하세요.\n",
    "\n",
    "1. `Person` 클래스:\n",
    "    - 클래스 속성 `national`은 \"Korea\"로 설정합니다.\n",
    "    - 메서드 `introduce`는 `\"안녕하세요, 저는 한국에서 왔습니다.\"`를 반환합니다.\n",
    "2. `Candidate` 클래스:\n",
    "    - `Person` 클래스를 상속받습니다.\n",
    "    - 생성자에서 이름(`name`)과 관심 분야(`field`)를 매개변수로 받아 저장합니다.  # 인스턴스 속성을 초기화화\n",
    "    - 메서드 `introduce`를 오버라이드하여 `\"안녕하세요, 저는 [name]입니다. [field] 분야에 관심이 있습니다.\"`를 반환합니다."
   ]
  },
  {
   "cell_type": "code",
   "execution_count": 58,
   "metadata": {},
   "outputs": [
    {
     "name": "stdout",
     "output_type": "stream",
     "text": [
      "Korea\n",
      "안녕하세요, 저는 윤재입니다. 운동 분야에 관심이 있습니다.\n",
      "None\n"
     ]
    }
   ],
   "source": [
    "class Person:\n",
    "    national = \"Korea\"\n",
    "\n",
    "    def introduce(self):\n",
    "        return \"안녕하세요, 저는 한국에서 왔습니다.\"\n",
    "    \n",
    "class Candidate(Person):\n",
    "    def __init__(self,name,field):\n",
    "        self.name = name      # 인스턴스 속성으로로 초기화화\n",
    "        self.field = field\n",
    "    \n",
    "    def introduce(self):    # 오버라이딩이란? 선언부는 똑같은데, 동작하는 것이 다른 것\n",
    "        print(f\"안녕하세요, 저는 {self.name}입니다. {self.field} 분야에 관심이 있습니다.\")   # introduce()를 오버라이딩 함\n",
    "\n",
    "c1 = Candidate(\"윤재\",\"운동\")\n",
    "\n",
    "print(c1.national)  \n",
    " \n",
    "print(c1.introduce())"
   ]
  },
  {
   "cell_type": "code",
   "execution_count": 59,
   "metadata": {},
   "outputs": [
    {
     "name": "stdout",
     "output_type": "stream",
     "text": [
      "안녕하세요, 저는 한국에서 왔습니다.\n",
      "안녕하세요, 저는 다람쥐입니다. LLm 분야에 관심이 있습니다.\n",
      "None\n"
     ]
    }
   ],
   "source": [
    "p = Person()\n",
    "c = Candidate('다람쥐','LLm')\n",
    "\n",
    "print(p.introduce())\n",
    "print(c.introduce())"
   ]
  },
  {
   "cell_type": "markdown",
   "metadata": {},
   "source": [
    "### 문제 2: **다중 상속을 활용한 클래스 생성**\n",
    "\n",
    "다람쥐는 이직을 준비하며 여러 강사님들의 도움을 받고 있습니다. 강사의 역할을 분리한 클래스를 만들어 상속 구조를 테스트하세요.\n",
    "\n",
    "1. `Mentor` 클래스:\n",
    "    - 메서드 `guide`는 `\"이직 준비를 도와드립니다.\"`를 반환합니다.\n",
    "2. `Lecturer` 클래스:\n",
    "    - 메서드 `teach`는 `\"이직에 필요한 기술을 가르쳐드립니다.\"`를 반환합니다.\n",
    "3. `Coach` 클래스:\n",
    "    - `Mentor`와 `Lecturer` 클래스를 다중 상속받습니다.\n",
    "    - 메서드 `support`는 `\"여러 방면으로 지원을 아끼지 않겠습니다.\"`를 반환합니다."
   ]
  },
  {
   "cell_type": "code",
   "execution_count": 50,
   "metadata": {},
   "outputs": [
    {
     "data": {
      "text/plain": [
       "'여러 방면으로 지원을 아끼지 않겠습니다.'"
      ]
     },
     "execution_count": 50,
     "metadata": {},
     "output_type": "execute_result"
    }
   ],
   "source": [
    "class Mentor:\n",
    "    def guide(self):\n",
    "        return \"이직 준비를 도와드립니다.\"\n",
    "\n",
    "class Lecturer:\n",
    "    def teach(self):\n",
    "        return \"이직에 필요한 기술을 가르쳐드립니다.\"\n",
    "\n",
    "class Coach(Mentor,Lecturer):\n",
    "    def support(self):\n",
    "        return \"여러 방면으로 지원을 아끼지 않겠습니다.\"\n",
    "    \n",
    "squirrel = Coach()\n",
    "\n",
    "print(squirrel.teach())     # 함수를 호출하는데 그치지 않고 결과값으로 내보낼려면 print 필수!\n",
    "print(squirrel.guide())\n",
    "print(squirrel.support())\n"
   ]
  },
  {
   "cell_type": "code",
   "execution_count": null,
   "metadata": {},
   "outputs": [],
   "source": [
    "m = Mentor()\n",
    "l = Lecturer()\n",
    "c = Coach()\n",
    "\n",
    "print(m.guide())\n",
    "# print(m.teach())\n",
    "# print(m.support())\n",
    "\n",
    "# print(l.guide())\n",
    "print(l.teach())\n",
    "# print(l.support())\n",
    "\n",
    "print(c.guide())\n",
    "print(c.teach())\n",
    "print(c.support())"
   ]
  },
  {
   "cell_type": "markdown",
   "metadata": {},
   "source": [
    "### 문제 3: **부모 클래스 속성 오버라이딩**\n",
    "\n",
    "다람쥐는 이직 준비를 위해 개인적인 특성을 강조하고 있습니다. 부모 클래스의 메서드를 오버라이딩하여 각기 다른 인스턴스를 만들어보세요.\n",
    "\n",
    "1. `Person` 클래스:\n",
    "    - 속성 `name`과 `national`을 생성자로 받아 저장합니다.\n",
    "    - 메서드 `introduce`는 `\"안녕하세요, 저는 [name]입니다. 저는 [national]에서 왔습니다.\"`를 반환합니다.\n",
    "2. `Candidate` 클래스:\n",
    "    - `Person` 클래스를 상속받습니다.\n",
    "    - `introduce` 메서드를 오버라이드하여 `\"안녕하세요, 제 이름은 [name]이고, 이직 준비 중입니다.\"`를 반환합니다.\n",
    "\n",
    "--"
   ]
  },
  {
   "cell_type": "code",
   "execution_count": 125,
   "metadata": {},
   "outputs": [
    {
     "name": "stdout",
     "output_type": "stream",
     "text": [
      "안녕하세요, 제 이름은 다람이이고, 이직 준비 중입니다.\n",
      "안녕하세요, 저는 다다다입니다. 저는 미국에서 왔습니다.\n"
     ]
    }
   ],
   "source": [
    "#1번 문제의 확장\n",
    "\n",
    "class Person:\n",
    "    def __init__(self,name,national):\n",
    "        self.name = name\n",
    "        self.national = national\n",
    "    \n",
    "    def introduce(self):\n",
    "        return f\"안녕하세요, 저는 {self.name}입니다. 저는 {self.national}에서 왔습니다.\"\n",
    "    \n",
    "class Candidate(Person):   # 별도의 init 없기 때문에 부모의 init 인자를 같이 받아야 함   # 만약 init를 활용한다면 인자 하나만 넘겨도 괜찮?\n",
    "\n",
    "    def introduce(self):     # 정답!\n",
    "       return f\"안녕하세요, 제 이름은 {self.name}이고, 이직 준비 중입니다.\"\n",
    "    \n",
    "squirrel = Candidate('다람이','오스트리아')\n",
    "print(squirrel.introduce())\n",
    "\n",
    "parent_squirrel = Person('다다다','미국')  # 부모 클래스 \n",
    "print(parent_squirrel.introduce())"
   ]
  },
  {
   "cell_type": "markdown",
   "metadata": {},
   "source": [
    "### 문제 4: **상속의 특성 통합 테스트**\n",
    "\n",
    "다람쥐는 강사님들의 지도를 받으며 다양한 분야에서 경험을 쌓고 있습니다. 상속과 메서드 오버라이딩, 다중 상속을 종합적으로 테스트하세요.\n",
    "\n",
    "1. `Mentor` 클래스:\n",
    "    - 속성 `field`를 생성자로 받아 저장합니다.\n",
    "    - 메서드 `guide`는 `\"저는 [field] 분야의 멘토입니다.\"`를 반환합니다.\n",
    "2. `Lecturer` 클래스:\n",
    "    - 속성 `experience`를 생성자로 받아 저장합니다.\n",
    "    - 메서드 `teach`는 `\"저는 [experience]년의 강의 경력을 가지고 있습니다.\"`를 반환합니다.\n",
    "3. `Candidate` 클래스:\n",
    "    - `Mentor`와 `Lecturer` 클래스를 다중 상속받습니다.\n",
    "    - `guide` 메서드를 오버라이드하여 `\"저는 [field] 분야의 강사이며, 이직 준비를 도와드립니다.\"`를 반환합니다."
   ]
  },
  {
   "cell_type": "code",
   "execution_count": 124,
   "metadata": {},
   "outputs": [
    {
     "name": "stdout",
     "output_type": "stream",
     "text": [
      "저는 요가 분야의 강사이며, 이직 준비를 도와드립니다.\n",
      "저는 15년의 강의 경력을 가지고 있습니다.\n",
      "저는 30년의 강의 경력을 가지고 있습니다.\n",
      "저는 LLM 분야의 멘토입니다.\n"
     ]
    }
   ],
   "source": [
    "class Mentor:\n",
    "    def __init__(self,field):\n",
    "        self.field = field\n",
    "    \n",
    "    def guide(self):\n",
    "        return f\"저는 {self.field} 분야의 멘토입니다.\"\n",
    "\n",
    "class Lecturer:\n",
    "    def __init__(self,experience):\n",
    "        self.experience = experience\n",
    "\n",
    "    def teach(self):\n",
    "        return f\"저는 {self.experience}년의 강의 경력을 가지고 있습니다.\"\n",
    "\n",
    "class Candidate(Mentor,Lecturer):\n",
    "\n",
    "    def __init__(self,field,experience):          # Candidate 라는 클래스가 생성자를 가져야 함 / 이 생성자가 없으면 experience 인자 사용하기 어려움려움\n",
    "        Mentor.__init__(self,field)         # 상속받는 부모가 다중이기 때문에 super을 쓰는 것보다는 각각 호출해주는 게 good\n",
    "        Lecturer.__init__(self,experience)\n",
    "    \n",
    "    # def teach(self):    # 의미: 위의 teach 함수를 호출하지만 pass 때문에 매서드를 날려버린 결과가 되어버림림\n",
    "        # pass\n",
    "\n",
    "    def guide(self):     \n",
    "        return f\"저는 {self.field} 분야의 강사이며, 이직 준비를 도와드립니다.\"\n",
    "    \n",
    "\n",
    "squirrel = Candidate('요가',15)\n",
    "print(squirrel.guide())\n",
    "print(squirrel.teach())\n",
    "\n",
    "adult_squirrel = Lecturer(30)\n",
    "print(adult_squirrel.teach())\n",
    "\n",
    "grand_squirrel = Mentor(\"LLM\")\n",
    "print(grand_squirrel.guide())\n",
    "    "
   ]
  }
 ],
 "metadata": {
  "kernelspec": {
   "display_name": "pystudy_env",
   "language": "python",
   "name": "python3"
  },
  "language_info": {
   "codemirror_mode": {
    "name": "ipython",
    "version": 3
   },
   "file_extension": ".py",
   "mimetype": "text/x-python",
   "name": "python",
   "nbconvert_exporter": "python",
   "pygments_lexer": "ipython3",
   "version": "3.12.8"
  }
 },
 "nbformat": 4,
 "nbformat_minor": 2
}
