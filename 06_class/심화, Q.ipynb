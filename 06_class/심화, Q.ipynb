{
 "cells": [
  {
   "cell_type": "markdown",
   "metadata": {},
   "source": []
  },
  {
   "cell_type": "markdown",
   "metadata": {},
   "source": [
    "# 스페이스\n",
    "전역과 지역 구분하기\n",
    "코드 블럭 (들여쓰기): 지역  ex) 내 간식 사물함\n",
    "들여쓰기 X : 전역   ex) 회사 탕비실\n",
    "- 같은 이름이지만 다른 공간에 존재할 수 있고 그 값은 다르다\n",
    "- 같은 이름이라면 지역스코프 먼저 찾음\n",
    "- 지역에서는 전역에 접근 가능, 전역에서 지역은 접근 불가, 지역끼리도 접근 불가\n",
    "- (레벨이 중첩될 경우)\n",
    "\n",
    "scope:\n",
    "변수의 접근 범위! 어디까지인지 확인하고 사용할 때 사용되는 개념"
   ]
  },
  {
   "cell_type": "markdown",
   "metadata": {},
   "source": [
    "Global nonlocal\n",
    "\n",
    "gloval 키워드로 지역에 있는 g_variable이 맨 위를 가르키게 됨\n",
    "modify 한 후에야 지역 변수 호출\n",
    "\n",
    "nonlocal\n",
    "중첩 함수에서 발생\n",
    "nonlocal 사용해서 outer function에 접근\n",
    "\n"
   ]
  },
  {
   "cell_type": "markdown",
   "metadata": {},
   "source": [
    "# Private Variable\n",
    "언더바 2개로 private 속성 설정\n",
    "인스턴스 속성을 수정하는 것과 같은 접근을 막는 방법\n",
    "- 값을 수정할 수 없을 뿐만 아니라 그 값 자체를 가져올 수 없음\n",
    "- 이유: 유효성 검증을 할 목적\n",
    "      나이에 마이너스 등을 넣지 않기 위해\n",
    "\n"
   ]
  },
  {
   "cell_type": "markdown",
   "metadata": {},
   "source": [
    "### 문제"
   ]
  },
  {
   "cell_type": "markdown",
   "metadata": {},
   "source": [
    "### **문제 1: 클래스 속성, 인스턴스 속성 테스트**\n",
    "\n",
    "다람쥐는 이직 준비를 위해 자기소개서를 작성해야 합니다. `Squirrel`이라는 클래스를 만들어 다람쥐의 기본 정보를 설정하세요.\n",
    "\n",
    "1. 클래스 속성 `species`를 설정하여 \"다람쥐\"로 초기화하세요.\n",
    "2. 생성자를 통해 인스턴스 속성 `name`과 `current_job`을 설정하세요.\n",
    "3. 메서드 `introduce`를 만들어 이름과 현재 직업을 소개하는 문자열을 반환하세요.\n",
    "4. 다른 인스턴스를 생성해도 `species`는 공유되지만, `name`과 `current_job`은 서로 독립적임을 확인하세요."
   ]
  },
  {
   "cell_type": "code",
   "execution_count": 7,
   "metadata": {},
   "outputs": [
    {
     "data": {
      "text/plain": [
       "'이름: 다순이, 직장: 교사'"
      ]
     },
     "execution_count": 7,
     "metadata": {},
     "output_type": "execute_result"
    }
   ],
   "source": [
    "# Again\n",
    "\n",
    "class Squirrel:\n",
    "    species = '다람쥐'\n",
    "\n",
    "    def __init__(self,name,current_job):\n",
    "        self.name = name\n",
    "        self.current_job = current_job\n",
    "\n",
    "    def introduce(self):\n",
    "        return f\"이름: {self.name}, 직장: {self.current_job}\"\n",
    "    \n",
    "animal1 = Squirrel(\"다람이\",\"수영강사\")\n",
    "animal2 = Squirrel(\"다순이\",\"교사\")\n",
    "\n",
    "animal1.introduce()   # 왜 print 써야 해?\n",
    "animal2.introduce()"
   ]
  },
  {
   "cell_type": "code",
   "execution_count": 60,
   "metadata": {},
   "outputs": [
    {
     "name": "stdout",
     "output_type": "stream",
     "text": [
      "다람쥐\n",
      "다람쥐\n",
      "안녕하세요 저는 한나이고 현재 직업은 교사입니다.\n",
      "안녕하세요 저는 민수이고 현재 직업은 운동선수입니다.\n"
     ]
    }
   ],
   "source": [
    "class Squirrel:\n",
    "    species = '다람쥐'\n",
    "\n",
    "    def __init__(self,name,current_job):\n",
    "        self.name = name                   # 인스턴스 공간에 name을 대입입\n",
    "        self.current_job = current_job     \n",
    "    \n",
    "    def introduce(self):\n",
    "        return (f\"안녕하세요 저는 {self.name}이고 현재 직업은 {self.current_job}입니다.\")\n",
    "\n",
    "squirrel1 = Squirrel('한나','교사')\n",
    "squirrel2 = Squirrel('민수','운동선수')\n",
    "    \n",
    "print(squirrel1.species)\n",
    "print(squirrel2.species)\n",
    "\n",
    "\n",
    "print(squirrel1.introduce())\n",
    "print(squirrel2.introduce())\n"
   ]
  },
  {
   "cell_type": "markdown",
   "metadata": {},
   "source": [
    "### **문제 2: 클래스 속성과 인스턴스 속성의 차이**\n",
    "\n",
    "다람쥐는 이직 준비를 하며 다양한 직업 스킬을 학습 중입니다. 클래스 속성과 인스턴스 속성의 차이를 확인하세요.\n",
    "\n",
    "1. `Character` 클래스를 생성하세요.\n",
    "2. 클래스 속성 `skills`를 정의하여 빈 리스트로 초기화하세요.\n",
    "3. 생성자에서 인스턴스 속성 `skills`를 별도로 초기화하세요.\n",
    "4. `add_skill` 메서드에서 클래스 속성이 아닌 인스턴스 속성에 스킬을 추가하도록 수정하세요."
   ]
  },
  {
   "cell_type": "code",
   "execution_count": 21,
   "metadata": {},
   "outputs": [
    {
     "ename": "TypeError",
     "evalue": "Character.add_skill() takes 1 positional argument but 2 were given",
     "output_type": "error",
     "traceback": [
      "\u001b[1;31m---------------------------------------------------------------------------\u001b[0m",
      "\u001b[1;31mTypeError\u001b[0m                                 Traceback (most recent call last)",
      "Cell \u001b[1;32mIn[21], line 12\u001b[0m\n\u001b[0;32m      9\u001b[0m         \u001b[38;5;28mself\u001b[39m\u001b[38;5;241m.\u001b[39mskills\u001b[38;5;241m.\u001b[39mappend(skills)\n\u001b[0;32m     11\u001b[0m squirrel \u001b[38;5;241m=\u001b[39m Character()\n\u001b[1;32m---> 12\u001b[0m \u001b[43msquirrel\u001b[49m\u001b[38;5;241;43m.\u001b[39;49m\u001b[43madd_skill\u001b[49m\u001b[43m(\u001b[49m\u001b[38;5;124;43m\"\u001b[39;49m\u001b[38;5;124;43m풍차 돌리기\u001b[39;49m\u001b[38;5;124;43m\"\u001b[39;49m\u001b[43m)\u001b[49m\n\u001b[0;32m     13\u001b[0m \u001b[38;5;28mprint\u001b[39m(squirrel\u001b[38;5;241m.\u001b[39mskill)\n",
      "\u001b[1;31mTypeError\u001b[0m: Character.add_skill() takes 1 positional argument but 2 were given"
     ]
    }
   ],
   "source": [
    "# again\n",
    "class Character:\n",
    "    skills = []\n",
    "\n",
    "    def __init__(self):\n",
    "        self.skills = []  # 초기화\n",
    "\n",
    "    def add_skill(self):\n",
    "        self.skills.append(skills)\n",
    "\n",
    "squirrel = Character()\n",
    "squirrel.add_skill(\"풍차 돌리기\")\n",
    "print(squirrel.skill)\n"
   ]
  },
  {
   "cell_type": "code",
   "execution_count": 103,
   "metadata": {},
   "outputs": [
    {
     "name": "stdout",
     "output_type": "stream",
     "text": [
      "[]\n",
      "['LLM 개발']\n"
     ]
    }
   ],
   "source": [
    "class Character:\n",
    "    skill = []\n",
    "    \n",
    "    def __init__(self):   # 생성자를 통해 인스턴스 속성 초기화\n",
    "        self.skill = []\n",
    "\n",
    "    def add_skill(self,skill):\n",
    "        self.skill.append(skill)\n",
    "\n",
    "my_character = Character()\n",
    "print(my_character.skill)\n",
    "my_character.add_skill(\"LLM 개발\")\n",
    "print(my_character.skill)"
   ]
  },
  {
   "cell_type": "code",
   "execution_count": 63,
   "metadata": {},
   "outputs": [
    {
     "ename": "AttributeError",
     "evalue": "'str' object has no attribute 'append'",
     "output_type": "error",
     "traceback": [
      "\u001b[1;31m---------------------------------------------------------------------------\u001b[0m",
      "\u001b[1;31mAttributeError\u001b[0m                            Traceback (most recent call last)",
      "Cell \u001b[1;32mIn[63], line 11\u001b[0m\n\u001b[0;32m      8\u001b[0m         \u001b[38;5;28mprint\u001b[39m(\u001b[38;5;124mf\u001b[39m\u001b[38;5;124m\"\u001b[39m\u001b[38;5;124m나의 스킬은 \u001b[39m\u001b[38;5;132;01m{\u001b[39;00m\u001b[38;5;28mself\u001b[39m\u001b[38;5;241m.\u001b[39mskill\u001b[38;5;132;01m}\u001b[39;00m\u001b[38;5;124m이다!\u001b[39m\u001b[38;5;124m\"\u001b[39m)\n\u001b[0;32m     10\u001b[0m animal1 \u001b[38;5;241m=\u001b[39m Character(\u001b[38;5;124m'\u001b[39m\u001b[38;5;124m'\u001b[39m)\n\u001b[1;32m---> 11\u001b[0m \u001b[43manimal1\u001b[49m\u001b[38;5;241;43m.\u001b[39;49m\u001b[43mskill\u001b[49m\u001b[38;5;241;43m.\u001b[39;49m\u001b[43mappend\u001b[49m(\u001b[38;5;124m\"\u001b[39m\u001b[38;5;124m풍차돌리기\u001b[39m\u001b[38;5;124m\"\u001b[39m)\n\u001b[0;32m     12\u001b[0m animal1\u001b[38;5;241m.\u001b[39mintro()\n",
      "\u001b[1;31mAttributeError\u001b[0m: 'str' object has no attribute 'append'"
     ]
    }
   ],
   "source": [
    "class Character:\n",
    "    skills = []\n",
    "\n",
    "    def __init__(self,skill):   # 생성자를 통해 인스턴스 속성 초기화화\n",
    "        self.skill = \"발차기\"\n",
    "    \n",
    "    def intro(self):\n",
    "        print(f\"나의 스킬은 {self.skill}이다!\")\n",
    "\n",
    "animal1 = Character('')\n",
    "animal1.skill.append(\"풍차돌리기\")\n",
    "animal1.intro()\n"
   ]
  },
  {
   "cell_type": "markdown",
   "metadata": {},
   "source": [
    "### **문제 3: 인스턴스 속성과 클래스 속성의 우선순위**\n",
    "\n",
    "다람쥐는 이직을 위해 별명을 여러 개 사용합니다. 클래스 속성으로 `nickname`을 설정하지만, 각 인스턴스마다 별명을 변경할 수 있습니다.\n",
    "\n",
    "1. `Character` 클래스에 클래스 속성 `nickname`을 설정하세요.\n",
    "2. 생성자에서 인스턴스 속성 `nickname`을 설정하세요.\n",
    "3. 클래스 속성과 인스턴스 속성이 충돌할 때, 인스턴스 속성이 우선됨을 확인하세요."
   ]
  },
  {
   "cell_type": "code",
   "execution_count": 68,
   "metadata": {},
   "outputs": [
    {
     "name": "stdout",
     "output_type": "stream",
     "text": [
      "강아지\n",
      "고양이\n",
      "고양이\n"
     ]
    }
   ],
   "source": [
    "class Character:\n",
    "    nickname = '고양이'\n",
    "\n",
    "    def __init__(self,nickname):\n",
    "        self.nickname = '강아지'   #  = nickname\n",
    "\n",
    "    def nick(self):\n",
    "        print(f\"내 별명은 {self.nickname}이다.\")\n",
    "\n",
    "person = Character('')\n",
    "\n",
    "print(person.nickname) #  인스턴스 속성 우선시\n",
    "\n",
    "print(Character.nickname) # 클래스 속성 도출\n",
    "print(person.__class__.nickname) # 인스턴스를 통해 클래스 속성 도출출\n",
    "    \n",
    "\n",
    "\n"
   ]
  },
  {
   "cell_type": "markdown",
   "metadata": {},
   "source": [
    "### **문제 4: 네임스페이스 테스트 - 전역과 로컬**\n",
    "\n",
    "다람쥐는 이직 준비 도구를 사용하며, 전역 변수와 로컬 변수를 관리합니다. `namespace_test` 함수를 작성해 네임스페이스를 테스트하세요.\n",
    "\n",
    "1. 전역 변수 `tool`을 \"연필\"로 설정하세요.\n",
    "2. 함수 `namespace_test` 내부에 로컬 변수 `local_tool`을 \"키보드\"로 설정하고, `global` 키워드를 사용해 전역 변수 tool을을 \"펜\"으로 수정하세요.\n",
    "3. 함수 내부에서 로컬 변수와 전역 변수의 값을 출력하세요."
   ]
  },
  {
   "cell_type": "code",
   "execution_count": 85,
   "metadata": {},
   "outputs": [
    {
     "name": "stdout",
     "output_type": "stream",
     "text": [
      "키보드\n",
      "펜\n"
     ]
    }
   ],
   "source": [
    "tool = '연필'\n",
    "def namespace_test():\n",
    "    local_tool = '키보드'\n",
    "\n",
    "    global tool # global 키워드 붙여서 같은 이름을 공유\n",
    "    tool = '펜'\n",
    "\n",
    "    print(local_tool)\n",
    "    print(tool)     # 펜이 우선시 됨됨\n",
    "\n",
    "namespace_test()   # 함수 호출 꼭 필요\n"
   ]
  },
  {
   "cell_type": "markdown",
   "metadata": {},
   "source": [
    "### **문제 5: 네임스페이스 테스트 - 클래스와 인스턴스**\n",
    "\n",
    "다람쥐는 이직 준비 중 클래스를 통해 도구를 관리합니다. `Toolbox` 클래스를 만들어 네임스페이스를 테스트하세요.\n",
    "\n",
    "1. 클래스 속성 `tools`를 [\"노트북\", \"책상\"]으로 초기화하세요.\n",
    "2. 생성자를 통해 인스턴스 속성 `tools`를 설정하고, 객체마다 다른 도구를 가질 수 있도록 설정하세요.\n",
    "3. `add_tool` 메서드를 만들어 클래스 속성에 새 도구를 추가하세요."
   ]
  },
  {
   "cell_type": "code",
   "execution_count": 106,
   "metadata": {},
   "outputs": [
    {
     "name": "stdout",
     "output_type": "stream",
     "text": [
      "[]\n",
      "['노트북', '책상']\n",
      "[]\n",
      "['노트북', '책상', '키보드']\n"
     ]
    }
   ],
   "source": [
    "class Toolbox:\n",
    "    tools = [\"노트북\",\"책상\"]\n",
    "\n",
    "    def __init__(self):   \n",
    "        self.tools = []\n",
    "\n",
    "    def add_tool(self,tool):\n",
    "        __class__.tools.append(tool)  # self.add_tool()   #class에 접근해서 추가가\n",
    "\n",
    "toolbox = Toolbox()\n",
    "\n",
    "print(toolbox.tools)\n",
    "print(Toolbox.tools)\n",
    "\n",
    "toolbox.add_tool('키보드')\n",
    "print(toolbox.tools)\n",
    "print(Toolbox.tools)\n",
    "\n"
   ]
  },
  {
   "cell_type": "markdown",
   "metadata": {},
   "source": [
    "### **문제 6: 네임스페이스 테스트 - nonlocal**\n",
    "c\n",
    "다람쥐는 이직 준비 중 추가적인 정보가 필요합니다. 중첩 함수와 `nonlocal` 키워드를 사용해 바깥 함수의 변수를 수정하세요.\n",
    "\n",
    "1. 함수 `nested_function`을 작성하세요.\n",
    "2. 바깥 함수의 변수 `status`를 \"작성 중\"으로 초기화하세요.\n",
    "3. 중첩 함수에서 `status`를 \"완료\"로 수정하세요."
   ]
  },
  {
   "cell_type": "code",
   "execution_count": 111,
   "metadata": {},
   "outputs": [
    {
     "name": "stdout",
     "output_type": "stream",
     "text": [
      "작성중\n",
      "완료\n"
     ]
    }
   ],
   "source": [
    "def nested_function():\n",
    "\n",
    "    status = '작성중'\n",
    "\n",
    "    def inner_function():\n",
    "        nonlocal status  # 이거 없으면 '작성중', '작성중' 으로 뜸\n",
    "        status = '완료'\n",
    "\n",
    "    print(status) # 같은 위치에서는 inner_function()이 호출 되지 않고 바깥이 호출됨출됨\n",
    "    inner_function()\n",
    "    print(status)\n",
    "\n",
    "nested_function()\n",
    "        \n",
    "\n",
    "        "
   ]
  }
 ],
 "metadata": {
  "kernelspec": {
   "display_name": "pystudy_env",
   "language": "python",
   "name": "python3"
  },
  "language_info": {
   "codemirror_mode": {
    "name": "ipython",
    "version": 3
   },
   "file_extension": ".py",
   "mimetype": "text/x-python",
   "name": "python",
   "nbconvert_exporter": "python",
   "pygments_lexer": "ipython3",
   "version": "3.12.8"
  }
 },
 "nbformat": 4,
 "nbformat_minor": 2
}
