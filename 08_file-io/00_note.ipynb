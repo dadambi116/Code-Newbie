{
 "cells": [
  {
   "cell_type": "markdown",
   "metadata": {},
   "source": [
    "open 열기 (절대 or 상대 경로 포함)\n",
    "열기 모드 설정\n",
    " - write 전체 내용을 덮어씀\n",
    "  - append: 뒤에 내용 추가\n",
    "인코딩 타입 전달 (키워드 인자로)\n",
    "\n",
    "이를 통해 파일 객체 반환, 변수로 담아서 염\n",
    "\n",
    "close()\n",
    "\n",
    "02 파일 쓰기\n",
    "\n",
    "03 읽기\n",
    "read  - 전체 파일 다 읽어옴\n",
    "전체를 읽어서 하나의 문자열로 반환\n",
    "\n",
    "readline - 문자열 하나 반환 / 한줄만 읽어서서\n",
    "\n",
    "\n",
    "04. with - open\n",
    "열어서 as 변수명에 담음\n",
    "자동 close 해줌, close() 안 써도 됨\n",
    " 추적 시 힘들다는 단점 \n"
   ]
  },
  {
   "cell_type": "code",
   "execution_count": 18,
   "metadata": {},
   "outputs": [
    {
     "name": "stdout",
     "output_type": "stream",
     "text": [
      "['Python', 'is', 'fun']\n"
     ]
    }
   ],
   "source": [
    "sentence = 'Python-is-fun'\n",
    "n_sentence = sentence.split('-')\n",
    "print(n_sentence)\n"
   ]
  },
  {
   "cell_type": "code",
   "execution_count": 22,
   "metadata": {},
   "outputs": [
    {
     "name": "stdout",
     "output_type": "stream",
     "text": [
      "Lifeistooshort\n"
     ]
    }
   ],
   "source": [
    "words = ['Life', 'is', 'too', 'short']\n",
    "result = ''.join(words) # words.strip('')'\n",
    "print(result)"
   ]
  },
  {
   "cell_type": "code",
   "execution_count": null,
   "metadata": {},
   "outputs": [],
   "source": []
  }
 ],
 "metadata": {
  "kernelspec": {
   "display_name": "pystudy_env",
   "language": "python",
   "name": "python3"
  },
  "language_info": {
   "codemirror_mode": {
    "name": "ipython",
    "version": 3
   },
   "file_extension": ".py",
   "mimetype": "text/x-python",
   "name": "python",
   "nbconvert_exporter": "python",
   "pygments_lexer": "ipython3",
   "version": "3.12.8"
  }
 },
 "nbformat": 4,
 "nbformat_minor": 2
}
