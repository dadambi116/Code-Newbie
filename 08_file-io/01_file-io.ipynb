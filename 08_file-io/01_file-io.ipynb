{
 "cells": [
  {
   "cell_type": "markdown",
   "metadata": {},
   "source": [
    "# 파일 입출력"
   ]
  },
  {
   "cell_type": "code",
   "execution_count": null,
   "metadata": {},
   "outputs": [],
   "source": [
    "f1 = open('test.txt','w')  # 최상위 디렉토리 인지 아닌지에 따라 절대 vs 상대   # 상대 경로 상태 \n",
    "    # C:\\\\Users\\\\Playdata\\\\Desktop\\\\08_file-io    (절대경로) / 역슬래쉬 2개씩 넣어야 함, 개행 문자랑 충돌 생기기 않게!\n",
    "\n",
    "    # w 모드 파일 없어도 새로 만들 수 있음음\n",
    "    # 제약: 1) r모드 파일 없을 경우  2) w 모드에서는 디렉토리 반드시 존재해야함\n",
    "\n",
    "f1.write('오늘의 점심 메뉴: 쉐이크')\n",
    "f1.write('[오늘의 점심 메뉴]\\n 쉐이크')   #  \\n 개행 문자 escape 문자 중 하나\n",
    "\n",
    "f1.close()   # 매서드\n"
   ]
  },
  {
   "cell_type": "code",
   "execution_count": 15,
   "metadata": {},
   "outputs": [],
   "source": [
    "f2 = open('our_song.txt','w')\n",
    "\n",
    "our_song = ['공주의 규칙\\n','나를 사랑하기\\n','남도 사랑하기\\n',\n",
    "            '삶을 사랑하기\\n','여유 잃지 않기\\n','미소 잃지 않기\\n']\n",
    "\n",
    "f2.writelines(our_song)\n",
    "\n",
    "f2.close()"
   ]
  },
  {
   "cell_type": "code",
   "execution_count": 25,
   "metadata": {},
   "outputs": [
    {
     "name": "stdout",
     "output_type": "stream",
     "text": [
      "f3_readlines ['공주의 규칙\\n', '나를 사랑하기\\n', '남도 사랑하기\\n', '삶을 사랑하기\\n', '여유 잃지 않기\\n', '미소 잃지 않기\\n']\n"
     ]
    }
   ],
   "source": [
    "f3 = open(\"our_song.txt\",'r',encoding= \"utf-8\")\n",
    "\n",
    "#f3_read = f3.read()\n",
    "# f3_readline = f3.readline()   # 읽은 다음에 남은 내용이 나옴/ 앞에서 전체 다 읽히고 나면 아무것도 뜨지 않는다\n",
    "f3_readlines = f3.readlines()\n",
    "\n",
    "# print(\"f3_read\",f3_read,type(f3_read))\n",
    "# print(\"f3_readline\",f3_readline,type(f3_readline))  # 개행까지 포함해서 출력됨됨\n",
    "print(\"f3_readlines\",f3_readlines) # 배열을 반환 / 한 줄이 하나의 요소로!\n",
    "\n",
    "f3.close()"
   ]
  },
  {
   "cell_type": "code",
   "execution_count": 28,
   "metadata": {},
   "outputs": [],
   "source": [
    "f4 = open(\"our_song.txt\",\"a\",encoding= \"utf-8\")\n",
    "\n",
    "f4.write(\"노래 끝!\")\n",
    "\n",
    "\n",
    "f4.close()"
   ]
  },
  {
   "cell_type": "code",
   "execution_count": 35,
   "metadata": {},
   "outputs": [],
   "source": [
    "with open(\"new_test.txt\",'w',encoding= 'utf-8') as f:\n",
    "    f.write('오늘은 파이썬\\n')\n",
    "    f.write('내일은 streamlit\\n')\n",
    "    f.write('다음 주부터는 데이터베이스!')\n",
    "\n"
   ]
  },
  {
   "cell_type": "markdown",
   "metadata": {},
   "source": [
    "#문제 풀이"
   ]
  },
  {
   "cell_type": "markdown",
   "metadata": {},
   "source": [
    "### **문제 1: `.txt` 파일 생성 및 쓰기**\n",
    "\n",
    "다람쥐는 하루 동안 배운 내용을 기록하기 위해 일기를 작성합니다. 다음 작업을 수행하세요.\n",
    "\n",
    "1. `diary.txt` 파일을 생성하고, 다람쥐가 오늘 배운 내용을 작성하세요.\n",
    "2. 내용:```\n",
    "오늘은 파일 입출력을 배웠습니다.\n",
    "다양한 파일 확장자와 접근 모드를 사용할 수 있다는 점이 흥미로웠습니다.\n",
    "```"
   ]
  },
  {
   "cell_type": "code",
   "execution_count": 66,
   "metadata": {},
   "outputs": [
    {
     "name": "stdout",
     "output_type": "stream",
     "text": [
      "오늘은 파일 입출력을 배웠습니다.\n",
      "다양한 파일 확장자와 접근 모드를 사용할 수 있다는 점이 흥미로웠습니다.\n"
     ]
    }
   ],
   "source": [
    "f1 = open('diary.txt','w',encoding='utf-8')\n",
    "# with open ('diary.txt','w',encoding='utf-8') as f:\n",
    "\n",
    "f1.write(\"오늘은 파일 입출력을 배웠습니다.\\n다양한 파일 확장자와 접근 모드를 사용할 수 있다는 점이 흥미로웠습니다.\")\n",
    "\n",
    "f1.close()\n",
    "\n",
    "f1 = open('diary.txt','r',encoding='utf-8')\n",
    "print(f1.read())\n",
    "f1.close()"
   ]
  },
  {
   "cell_type": "markdown",
   "metadata": {},
   "source": [
    "### **문제 2: `.csv` 파일 생성 및 읽기**\n",
    "\n",
    "다람쥐는 이직 준비를 위해 지원했던 회사들의 정보를 저장하려고 합니다.\n",
    "\n",
    "1. `applications.csv` 파일을 생성하고 다음 데이터를 작성하세요.\n",
    "    \n",
    "    ```\n",
    "    회사명,직무,결과\n",
    "    회사A,데이터 분석가,합격\n",
    "    회사B,소프트웨어 엔지니어,불합격\n",
    "    회사C,제품 관리자,진행 중\n",
    "    ```\n",
    "    \n",
    "2. 파일을 닫고 다시 열어 모든 데이터를 출력하세요."
   ]
  },
  {
   "cell_type": "code",
   "execution_count": 75,
   "metadata": {},
   "outputs": [
    {
     "ename": "SyntaxError",
     "evalue": "invalid syntax. Perhaps you forgot a comma? (2469903773.py, line 10)",
     "output_type": "error",
     "traceback": [
      "\u001b[1;36m  Cell \u001b[1;32mIn[75], line 10\u001b[1;36m\u001b[0m\n\u001b[1;33m    print(f2.read().split',')\u001b[0m\n\u001b[1;37m          ^\u001b[0m\n\u001b[1;31mSyntaxError\u001b[0m\u001b[1;31m:\u001b[0m invalid syntax. Perhaps you forgot a comma?\n"
     ]
    }
   ],
   "source": [
    "import csv\n",
    "f2 = open('applications.csv','w',encoding='utf-8')\n",
    "\n",
    "f2.write(\"회사명,직무,결과 \\n 회사A,데이터 분석가,합격 \\n 회사B,소프트웨어 엔지니어,불합격 \\n 회사C,제품 관리자,진행 중\")\n",
    "\n",
    "f2.close()\n",
    "\n",
    "f2 = open('applications.csv','r',encoding='utf-8')\n",
    "\n",
    "print(f2.read())   # split 으로 , 기준으로 나누기!\n",
    "\n",
    "f2.close()"
   ]
  },
  {
   "cell_type": "code",
   "execution_count": 74,
   "metadata": {},
   "outputs": [
    {
     "name": "stdout",
     "output_type": "stream",
     "text": [
      "회사명,직무,결과\n",
      "\n",
      "회사A,데이터 분석가,합격\n",
      "\n",
      "회사B,소프트웨어 엔지니어,불합격\n",
      "\n",
      "회사C,제품 관리자,진행 중\n",
      "\n"
     ]
    }
   ],
   "source": [
    "import csv\n",
    "with open('applications.csv','w',encoding='utf-8') as f:\n",
    "    writer = csv.writer(f)\n",
    "    writer.writerow([\"회사명\",\"직무\",\"결과\"])\n",
    "    writer.writerow(['회사A','데이터 분석가','합격'])\n",
    "    writer.writerow([\"회사B\",\"소프트웨어 엔지니어\",\"불합격\"])\n",
    "    writer.writerow([\"회사C\",\"제품 관리자\",\"진행 중\"])   # ,로 구분 / 반복이 가능: 시퀀스 자료형\n",
    "\n",
    "with open ('applications.csv','r',encoding='utf-8') as f:\n",
    "    reader = csv.reader(f)\n",
    "    for row in reader:   #print(reader)  주소값이 출력됨됨\n",
    "        print(\",\".join(row))   # print(row) 와 비교교\n",
    "\n",
    "\n"
   ]
  },
  {
   "cell_type": "markdown",
   "metadata": {},
   "source": [
    "### **문제 3: `.log` 파일 읽기**\n",
    "\n",
    "다람쥐는 프로그램 실행 로그를 확인하려고 합니다.\n",
    "\n",
    "1. `system.log` 파일을 다음 내용으로 생성하세요.\n",
    "    \n",
    "    ```\n",
    "    [INFO] 2024-01-01 12:00:00: 시스템 시작\n",
    "    [WARN] 2024-01-01 12:05:00: 메모리 사용량 증가\n",
    "    [ERROR] 2024-01-01 12:10:00: 프로그램 종료\n",
    "    ```\n",
    "    \n",
    "2. 파일을 읽어와 `WARN` 또는 `ERROR`가 포함된 줄만 출력하세요."
   ]
  },
  {
   "cell_type": "code",
   "execution_count": 84,
   "metadata": {},
   "outputs": [
    {
     "name": "stdout",
     "output_type": "stream",
     "text": [
      "[WARN] 2024-01-01 12:05:00: 메모리 사용량 증가\n",
      "\n",
      " [ERROR] 2024-01-01 12:10:00: 프로그램 종료\n"
     ]
    }
   ],
   "source": [
    "f4 = open('system.log','w',encoding='utf-8')\n",
    "log_content = [\n",
    "    \"[INFO] 2024-01-01 12:00:00: 시스템 시작\\n\",\n",
    "    \"[WARN] 2024-01-01 12:05:00: 메모리 사용량 증가\\n \",\n",
    "    \"[ERROR] 2024-01-01 12:10:00: 프로그램 종료\"\n",
    "]\n",
    "f4.writelines(log_content)\n",
    "f4.close()\n",
    "\n",
    "f4 = open('system.log','r',encoding='utf-8')\n",
    "\n",
    "for line in f4:\n",
    "    if \"WARN\" in line or \"ERROR\" in line:    # 조건문 사용해서 도출!  인덱스 접근 아님님\n",
    "       print(line)\n",
    "   \n",
    "f4.close()\n"
   ]
  },
  {
   "cell_type": "markdown",
   "metadata": {},
   "source": []
  },
  {
   "cell_type": "code",
   "execution_count": 81,
   "metadata": {},
   "outputs": [
    {
     "name": "stdout",
     "output_type": "stream",
     "text": [
      "[INFO] 2024-01-01 12:00:00: 시스템 시작\n",
      "\n",
      " [WARN] 2024-01-01 12:05:00: 메모리 사용량 증가\n",
      "\n",
      " [ERROR] 2024-01-01 12:10:00: 프로그램 종료\n"
     ]
    }
   ],
   "source": [
    "f4 = open('system.log','w',encoding='utf-8')\n",
    "\n",
    "f4.writelines(\"[INFO] 2024-01-01 12:00:00: 시스템 시작\\n [WARN] 2024-01-01 12:05:00: 메모리 사용량 증가\\n [ERROR] 2024-01-01 12:10:00: 프로그램 종료\")\n",
    "\n",
    "f4.close()\n",
    "\n",
    "f5 = open('system.log','r',encoding='utf-8')\n",
    "\n",
    "for i in f5:\n",
    "    print(i)\n",
    "\n",
    "f5.close()\n",
    "\n",
    "\n",
    "\n",
    "\n"
   ]
  }
 ],
 "metadata": {
  "kernelspec": {
   "display_name": "pystudy_env",
   "language": "python",
   "name": "python3"
  },
  "language_info": {
   "codemirror_mode": {
    "name": "ipython",
    "version": 3
   },
   "file_extension": ".py",
   "mimetype": "text/x-python",
   "name": "python",
   "nbconvert_exporter": "python",
   "pygments_lexer": "ipython3",
   "version": "3.12.8"
  }
 },
 "nbformat": 4,
 "nbformat_minor": 2
}
