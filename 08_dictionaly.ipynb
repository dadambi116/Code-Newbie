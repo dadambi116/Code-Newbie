{
 "cells": [
  {
   "cell_type": "code",
   "execution_count": 20,
   "metadata": {},
   "outputs": [
    {
     "name": "stdout",
     "output_type": "stream",
     "text": [
      "<class 'dict'>\n"
     ]
    }
   ],
   "source": [
    "empt_dic = {}\n",
    "my_dict = {\n",
    "    'name':'squirrel',\n",
    "    'heigh' : 190,\n",
    "    'job': 'teacher'\n",
    "}\n",
    "print(type(empt_dic))\n"
   ]
  },
  {
   "cell_type": "code",
   "execution_count": 4,
   "metadata": {},
   "outputs": [
    {
     "name": "stdout",
     "output_type": "stream",
     "text": [
      "제 이름은 홍길동이고 나이는 25살입니다.\n",
      "제 이름은 홍길동이고 나이는 25살입니다.\n"
     ]
    }
   ],
   "source": [
    "name = '홍길동'\n",
    "age = 25\n",
    "print(\"제 이름은 {}이고 나이는 {}살입니다.\".format(name,age))\n",
    "print(f\"제 이름은 {name}이고 나이는 {age}살입니다.\")\n",
    "\n",
    "# 최적화 모델 찾고 파이프라인  모델 만들기 X, 활용    # 기본 자료형(숫자,문자)은 항상 immutable "
   ]
  },
  {
   "cell_type": "code",
   "execution_count": 21,
   "metadata": {},
   "outputs": [
    {
     "data": {
      "text/plain": [
       "dict_items([('name', 'squirrel'), ('heigh', 190), ('job', 'teacher')])"
      ]
     },
     "execution_count": 21,
     "metadata": {},
     "output_type": "execute_result"
    }
   ],
   "source": [
    "my_dict.keys()\n",
    "my_dict.values()\n",
    "my_dict.items()"
   ]
  },
  {
   "cell_type": "code",
   "execution_count": 22,
   "metadata": {},
   "outputs": [
    {
     "data": {
      "text/plain": [
       "{'name': '다람쥐', 'heigh': 190, 'job': 'teacher'}"
      ]
     },
     "execution_count": 22,
     "metadata": {},
     "output_type": "execute_result"
    }
   ],
   "source": [
    "my_dict['name'] = '다람쥐'\n",
    "my_dict"
   ]
  },
  {
   "cell_type": "code",
   "execution_count": 23,
   "metadata": {},
   "outputs": [
    {
     "data": {
      "text/plain": [
       "{'name': '다람쥐', 'heigh': 190, 'job': 'teacher', 'hobby': 'eat'}"
      ]
     },
     "execution_count": 23,
     "metadata": {},
     "output_type": "execute_result"
    }
   ],
   "source": [
    "my_dict['hobby'] = 'eat'\n",
    "my_dict"
   ]
  },
  {
   "cell_type": "code",
   "execution_count": 41,
   "metadata": {},
   "outputs": [
    {
     "name": "stdout",
     "output_type": "stream",
     "text": [
      "20\n"
     ]
    }
   ],
   "source": [
    "students = {\n",
    "    'name':'john',\n",
    "    'age' : 20,\n",
    "    \"major\":'computer science'\n",
    "}\n",
    "print(students['age'])"
   ]
  },
  {
   "cell_type": "code",
   "execution_count": 31,
   "metadata": {},
   "outputs": [
    {
     "name": "stdout",
     "output_type": "stream",
     "text": [
      "{'math': 95, 'english': 90}\n"
     ]
    }
   ],
   "source": [
    "scores = {\n",
    "    'math': 80,\n",
    "    'english': 90\n",
    "}\n",
    "scores['math'] = 95\n",
    "print(scores)"
   ]
  },
  {
   "cell_type": "code",
   "execution_count": 5,
   "metadata": {},
   "outputs": [
    {
     "name": "stdout",
     "output_type": "stream",
     "text": [
      "90\n",
      "{'student1': 85, 'student3': 95}\n"
     ]
    }
   ],
   "source": [
    "students = {\n",
    "    'student1':85,\n",
    "    'student2':90,\n",
    "    'student3':95\n",
    "}\n",
    "# del students['student2']\n",
    "tmp = students.pop('student2')\n",
    "print(tmp)\n",
    "print(students)\n",
    "\n",
    "# tmp = students.pop('student22','default')  #default 가 있어야 함!"
   ]
  }
 ],
 "metadata": {
  "kernelspec": {
   "display_name": "pystudy_env",
   "language": "python",
   "name": "python3"
  },
  "language_info": {
   "codemirror_mode": {
    "name": "ipython",
    "version": 3
   },
   "file_extension": ".py",
   "mimetype": "text/x-python",
   "name": "python",
   "nbconvert_exporter": "python",
   "pygments_lexer": "ipython3",
   "version": "3.12.8"
  }
 },
 "nbformat": 4,
 "nbformat_minor": 2
}
