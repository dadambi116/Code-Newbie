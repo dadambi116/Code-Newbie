{
 "cells": [
  {
   "cell_type": "markdown",
   "metadata": {},
   "source": [
    "# 예외처리"
   ]
  },
  {
   "cell_type": "code",
   "execution_count": 2,
   "metadata": {},
   "outputs": [],
   "source": [
    "class NotMyTeacher(Exception):\n",
    "    pass\n",
    "\n",
    "\n",
    "\n"
   ]
  },
  {
   "cell_type": "code",
   "execution_count": null,
   "metadata": {},
   "outputs": [
    {
     "ename": "NotMyTeacher",
     "evalue": "선생님 이름도 모르다니...!",
     "output_type": "error",
     "traceback": [
      "\u001b[1;31m---------------------------------------------------------------------------\u001b[0m",
      "\u001b[1;31mNotMyTeacher\u001b[0m                              Traceback (most recent call last)",
      "Cell \u001b[1;32mIn[6], line 6\u001b[0m\n\u001b[0;32m      4\u001b[0m     \u001b[38;5;28mprint\u001b[39m(\u001b[38;5;124m'\u001b[39m\u001b[38;5;124m훌륭합니다!\u001b[39m\u001b[38;5;124m'\u001b[39m)\n\u001b[0;32m      5\u001b[0m \u001b[38;5;28;01melse\u001b[39;00m:\n\u001b[1;32m----> 6\u001b[0m     \u001b[38;5;28;01mraise\u001b[39;00m NotMyTeacher(\u001b[38;5;124m\"\u001b[39m\u001b[38;5;124m선생님 이름도 모르다니...!\u001b[39m\u001b[38;5;124m\"\u001b[39m)   \n",
      "\u001b[1;31mNotMyTeacher\u001b[0m: 선생님 이름도 모르다니...!"
     ]
    }
   ],
   "source": [
    "teacher_name = input(\"당신의 선생님 이름은 무엇입니까?\")\n",
    "\n",
    "if teacher_name == '다람쥐':\n",
    "    print('훌륭합니다!')\n",
    "else:\n",
    "    raise NotMyTeacher(\"선생님 이름도 모르다니...!\")     # 인자를 넣어도 되고 안 넣어도 됨\n",
    " \n"
   ]
  },
  {
   "cell_type": "code",
   "execution_count": 12,
   "metadata": {},
   "outputs": [
    {
     "name": "stdout",
     "output_type": "stream",
     "text": [
      "예외가 발생했습니다!\n",
      "그러나 중단되지는 않았어요~\n"
     ]
    }
   ],
   "source": [
    "def check_teacher(teacher_name):\n",
    "    if teacher_name == '다람쥐':\n",
    "        print('훌륭합니다!')\n",
    "    else:\n",
    "        raise NotMyTeacher(\"선생님 이름도 모르다니...!\")    \n",
    "\n",
    "try:\n",
    "    check_teacher('호랑이')    # try 없이 예외 먼저 만나면 중단됨\n",
    "    check_teacher('다람쥐')\n",
    "    print('이건 출력되지 않음')\n",
    "    \n",
    "except:\n",
    "    print(\"예외가 발생했습니다!\")   # try - except 없으면 뒤의 코드 실행 안 됨\n",
    "\n",
    "print('그러나 중단되지는 않았어요~')"
   ]
  },
  {
   "cell_type": "code",
   "execution_count": 17,
   "metadata": {},
   "outputs": [
    {
     "ename": "IndexError",
     "evalue": "list index out of range",
     "output_type": "error",
     "traceback": [
      "\u001b[1;31m---------------------------------------------------------------------------\u001b[0m",
      "\u001b[1;31mIndexError\u001b[0m                                Traceback (most recent call last)",
      "Cell \u001b[1;32mIn[17], line 2\u001b[0m\n\u001b[0;32m      1\u001b[0m test_list \u001b[38;5;241m=\u001b[39m [\u001b[38;5;241m2024\u001b[39m,\u001b[38;5;241m12\u001b[39m,\u001b[38;5;241m26\u001b[39m]\n\u001b[1;32m----> 2\u001b[0m \u001b[38;5;28mprint\u001b[39m(\u001b[43mtest_list\u001b[49m\u001b[43m[\u001b[49m\u001b[38;5;241;43m100\u001b[39;49m\u001b[43m]\u001b[49m)\n",
      "\u001b[1;31mIndexError\u001b[0m: list index out of range"
     ]
    }
   ],
   "source": [
    "test_list = [2024,12,26]\n",
    "print(test_list[100])   #IndexError"
   ]
  },
  {
   "cell_type": "code",
   "execution_count": 20,
   "metadata": {},
   "outputs": [
    {
     "ename": "ZeroDivisionError",
     "evalue": "division by zero",
     "output_type": "error",
     "traceback": [
      "\u001b[1;31m---------------------------------------------------------------------------\u001b[0m",
      "\u001b[1;31mZeroDivisionError\u001b[0m                         Traceback (most recent call last)",
      "Cell \u001b[1;32mIn[20], line 1\u001b[0m\n\u001b[1;32m----> 1\u001b[0m \u001b[38;5;28mprint\u001b[39m(\u001b[38;5;241;43m2024\u001b[39;49m\u001b[38;5;241;43m/\u001b[39;49m\u001b[38;5;241;43m0\u001b[39;49m)\n",
      "\u001b[1;31mZeroDivisionError\u001b[0m: division by zero"
     ]
    }
   ],
   "source": [
    "print(2024/0)\n",
    "\n"
   ]
  },
  {
   "cell_type": "code",
   "execution_count": 25,
   "metadata": {},
   "outputs": [
    {
     "name": "stdout",
     "output_type": "stream",
     "text": [
      "12\n",
      "0으로는 나눌 수 없습니다\n"
     ]
    }
   ],
   "source": [
    "# 특수상황\n",
    "try:\n",
    "    test_list = [2024,12,26]\n",
    "    print(test_list[1])\n",
    "\n",
    "    print(2024/0)\n",
    "except IndexError:\n",
    "    print(\"인덱싱 범위를 초과했습니다.\")\n",
    "except ZeroDivisionError:               # 특수 error에 대해 다르게 처리해 줄 수 있다\n",
    "    print('0으로는 나눌 수 없습니다')"
   ]
  },
  {
   "cell_type": "code",
   "execution_count": null,
   "metadata": {},
   "outputs": [
    {
     "name": "stdout",
     "output_type": "stream",
     "text": [
      "2024\n",
      "0으로는 나눌 수 없습니다\n",
      "finally는 언제 실행될까요?\n"
     ]
    }
   ],
   "source": [
    "try:\n",
    "    idx = int(input('index 숫자: '))\n",
    "    test_list = [2024,12,26]\n",
    "    print(test_list[idx])\n",
    "\n",
    "    num = int(input(\"나누는 수: \"))\n",
    "    print(2024/num)\n",
    "\n",
    "except IndexError:\n",
    "    print(\"인덱싱 범위를 초과했습니다.\")\n",
    "except ZeroDivisionError:               \n",
    "    print('0으로는 나눌 수 없습니다')\n",
    "\n",
    "else:\n",
    "    print('else는 언제 실행될까요? 예외가 발생하지 않았을 때! (try 구문 내 코드가 정상 동작했을 때)')    # error가 발생하면 호출되지 않음\n",
    "\n",
    "finally:\n",
    "    print('finally는 언제 실행될까요? 언제나!')   # 자원을 열어서 쓴 경우, 예외가 발생하더라도 그 자원을 무조건 닫을 때  "
   ]
  },
  {
   "cell_type": "markdown",
   "metadata": {},
   "source": [
    "# 문제"
   ]
  },
  {
   "cell_type": "markdown",
   "metadata": {},
   "source": [
    "### **문제 1: 모든 예외 처리**\n",
    "\n",
    "다람쥐는 파일에서 데이터를 읽으려고 하지만, 파일이 없을 경우 프로그램이 중단되지 않도록 처리하고 싶습니다.\n",
    "\n",
    "1. `data.txt` 파일을 읽으려고 시도하세요.\n",
    "2. 파일이 없을 경우, `\"파일이 존재하지 않습니다.\"`를 출력하세요.\n",
    "3. 파일이 존재하면 파일 내용을 출력하세요."
   ]
  },
  {
   "cell_type": "code",
   "execution_count": 75,
   "metadata": {},
   "outputs": [
    {
     "name": "stdout",
     "output_type": "stream",
     "text": [
      "파일이 존재하지 않습니다.\n"
     ]
    },
    {
     "ename": "AttributeError",
     "evalue": "'str' object has no attribute 'close'",
     "output_type": "error",
     "traceback": [
      "\u001b[1;31m---------------------------------------------------------------------------\u001b[0m",
      "\u001b[1;31mAttributeError\u001b[0m                            Traceback (most recent call last)",
      "Cell \u001b[1;32mIn[75], line 11\u001b[0m\n\u001b[0;32m      8\u001b[0m     \u001b[38;5;28mprint\u001b[39m(\u001b[38;5;124m\"\u001b[39m\u001b[38;5;124m파일이 존재하지 않습니다.\u001b[39m\u001b[38;5;124m\"\u001b[39m)\n\u001b[0;32m     10\u001b[0m \u001b[38;5;28;01mfinally\u001b[39;00m:\n\u001b[1;32m---> 11\u001b[0m     \u001b[43mf\u001b[49m\u001b[38;5;241;43m.\u001b[39;49m\u001b[43mclose\u001b[49m()\n",
      "\u001b[1;31mAttributeError\u001b[0m: 'str' object has no attribute 'close'"
     ]
    }
   ],
   "source": [
    "#f = '' # 지역변수로 f를 줘야 함\n",
    "\n",
    "try:\n",
    "    f = open(\"data.txt\",'r',encoding='utf-8')\n",
    "    print(f.read())\n",
    "\n",
    "except:\n",
    "    print(\"파일이 존재하지 않습니다.\")\n",
    "\n",
    "#finally:\n",
    " #   f.close()\n",
    "\n",
    "\n"
   ]
  },
  {
   "cell_type": "code",
   "execution_count": 105,
   "metadata": {},
   "outputs": [
    {
     "name": "stdout",
     "output_type": "stream",
     "text": [
      "파일이 존재하지 않습니다.\n"
     ]
    }
   ],
   "source": [
    "try:\n",
    "    with open(\"data.txt\",'r',encoding ='utf-8') as f:\n",
    "        print(f.read())\n",
    "\n",
    "except:\n",
    "    print(\"파일이 존재하지 않습니다.\")"
   ]
  },
  {
   "cell_type": "markdown",
   "metadata": {},
   "source": [
    "### **문제 2: 특정 예외 처리**\n",
    "\n",
    "다람쥐는 사용자에게 나이를 입력받아 성인인지 확인하려고 합니다.\n",
    "\n",
    "1. 사용자로부터 나이를 입력받아 정수로 변환하세요.\n",
    "2. 입력값이 숫자가 아닐 경우, `\"숫자를 입력해야 합니다.\"`를 출력하세요.\n",
    "3. 숫자가 올바르게 입력되면 나이가 19 이상인지 확인하고, 19 이상이면 `\"성인입니다.\"`, 그렇지 않으면 `\"미성년자입니다.\"`를 출력하세요."
   ]
  },
  {
   "cell_type": "code",
   "execution_count": 86,
   "metadata": {},
   "outputs": [
    {
     "name": "stdout",
     "output_type": "stream",
     "text": [
      "미성년자입니다. \n"
     ]
    }
   ],
   "source": [
    "\n",
    "try:\n",
    "    age = int(input(\"나이는? 입력: \"))  # try 구문에 들어가야 함! 예외 발생 할 수 잇는 곳곳\n",
    "    if age >= 19:\n",
    "        print(\"성인입니다.\")\n",
    "    else:\n",
    "        print(\"미성년자입니다. \")\n",
    "\n",
    "except ValueError:\n",
    "    print(\"숫자를 입력해야 합니다.\")\n",
    "\n",
    "    "
   ]
  },
  {
   "cell_type": "markdown",
   "metadata": {},
   "source": [
    "### **문제 3: 특수 예외 상황과 오류 변수 사용**\n",
    "\n",
    "다람쥐는 숫자 두 개를 입력받아 나누기를 수행하려고 합니다.\n",
    "\n",
    "1. 사용자로부터 두 숫자를 입력받아 나누기를 수행하세요.\n",
    "2. 첫 번째 숫자가 0으로 나누기를 시도하면 `\"0으로 나눌 수 없습니다.\"`를 출력하세요.\n",
    "3. 입력값이 숫자가 아니면 `\"숫자를 입력해야 합니다.\"`를 출력하세요.\n",
    "4. 오류 메시지를 출력할 때 발생한 오류 내용을 함께 출력하세요."
   ]
  },
  {
   "cell_type": "code",
   "execution_count": null,
   "metadata": {},
   "outputs": [
    {
     "name": "stdout",
     "output_type": "stream",
     "text": [
      "0으로 나눌 수 없습니다. division by zero\n"
     ]
    }
   ],
   "source": [
    "try:\n",
    "    num1 = int(input(\"첫 번째 숫자: \"))\n",
    "    num2 = int(input(\"두 번째 숫자: \"))\n",
    "    print(num1 /num2)\n",
    "\n",
    "except ZeroDivisionError as e:    # 이 둘은 같은 계급으로 처리 가능!\n",
    "    print(\"0으로 나눌 수 없습니다.\",e) # 오류 내용 출력하기\n",
    "\n",
    "except ValueError as e:\n",
    "    print(\"숫자를 입력해야 합니다.\",e)"
   ]
  },
  {
   "cell_type": "code",
   "execution_count": 117,
   "metadata": {},
   "outputs": [
    {
     "ename": "SyntaxError",
     "evalue": "default 'except:' must be last (299846068.py, line 6)",
     "output_type": "error",
     "traceback": [
      "\u001b[1;36m  Cell \u001b[1;32mIn[117], line 6\u001b[1;36m\u001b[0m\n\u001b[1;33m    except:\u001b[0m\n\u001b[1;37m    ^\u001b[0m\n\u001b[1;31mSyntaxError\u001b[0m\u001b[1;31m:\u001b[0m default 'except:' must be last\n"
     ]
    }
   ],
   "source": [
    "try:\n",
    "    num1 = int(input(\"첫 번째 숫자: \"))\n",
    "    num2 = int(input(\"두 번째 숫자: \"))\n",
    "    print(num1 /num2)\n",
    "\n",
    "except:\n",
    "    if num2 == 0:                           # 여기서 오류가 발생하면 뒤에 코드를 실행하지 못 함\n",
    "        print(\"0으로 나눌 수 없습니다.\") \n",
    "\n",
    "except ValueError:        # scope 범위가 더 큰게 먼저 오고 그 다음 작은 범위가 와야 함\n",
    "    print(\"숫자를 입력해야 합니다.\")\n",
    "\n",
    "# 따라서 순서를 다르게 하면 해결 완료!\n",
    "\n"
   ]
  },
  {
   "cell_type": "code",
   "execution_count": 99,
   "metadata": {},
   "outputs": [
    {
     "name": "stdout",
     "output_type": "stream",
     "text": [
      "숫자를 입력해야 합니다.\n"
     ]
    }
   ],
   "source": [
    "try:\n",
    "    num1 = int(input(\"첫번째 숫자: \"))\n",
    "    num2 = int(input(\"두번째 숫자: \"))\n",
    "    print(num1 /num2)\n",
    "\n",
    "except ZeroDivisionError:\n",
    "    print(\"0으로 나눌 수 없습니다.\") \n",
    "\n",
    "except:\n",
    "    print(\"숫자를 입력해야 합니다.\")\n"
   ]
  },
  {
   "cell_type": "markdown",
   "metadata": {},
   "source": [
    "### **문제 4: finally 블럭**\n",
    "\n",
    "다람쥐는 프로그램 실행 후 파일 자원을 반드시 정리해야 합니다.\n",
    "\n",
    "1. `log.txt` 파일을 읽으려고 시도하세요.\n",
    "2. 파일을 여는 중 예외가 발생할 경우, `\"파일을 열 수 없습니다.\"`를 출력하세요.\n",
    "3. 예외 발생 여부와 상관없이 파일 자원을 정리하는 메시지 `\"파일 자원 정리 완료\"`를 출력하세요."
   ]
  },
  {
   "cell_type": "code",
   "execution_count": 100,
   "metadata": {},
   "outputs": [
    {
     "name": "stdout",
     "output_type": "stream",
     "text": [
      "파일을 열 수 없습니다.\n",
      "파일 자원 정리 완료\n"
     ]
    }
   ],
   "source": [
    "try:\n",
    "    with open('log.txt','r',encoding='utf-8') as f:\n",
    "        print(f.read())\n",
    "\n",
    "except:\n",
    "    print(\"파일을 열 수 없습니다.\")\n",
    "\n",
    "finally:\n",
    "    print(\"파일 자원 정리 완료\")\n"
   ]
  },
  {
   "cell_type": "code",
   "execution_count": 111,
   "metadata": {},
   "outputs": [
    {
     "name": "stdout",
     "output_type": "stream",
     "text": [
      "파일을 열 수 없습니다.\n",
      "파일 자원 정리 완료\n"
     ]
    }
   ],
   "source": [
    "f = None\n",
    "try: \n",
    "    f = open('log.txt','r',encoding='utf-8')\n",
    "    print(f.read())\n",
    "\n",
    "except FileNotFoundError:\n",
    "    print(\"파일을 열 수 없습니다.\")\n",
    "\n",
    "finally:\n",
    "    if f:   # f는 그냥 변수인데 조건문 사용 / none의 object는 False한 값  / f 통해 오픈이 된다면 True 값이 되면서 수행 됨\n",
    "        f.close()      \n",
    "    print(\"파일 자원 정리 완료\")"
   ]
  },
  {
   "cell_type": "code",
   "execution_count": 108,
   "metadata": {},
   "outputs": [
    {
     "name": "stdout",
     "output_type": "stream",
     "text": [
      "파일을 열 수 없습니다.\n",
      "파일 자원 정리 완료\n"
     ]
    }
   ],
   "source": [
    "\n",
    "try:\n",
    "    with open('log.txt','r',encoding='utf-8') as f:\n",
    "        print(f.read())\n",
    "\n",
    "except FileNotFoundError:\n",
    "    print(\"파일을 열 수 없습니다.\")\n",
    "\n",
    "finally:\n",
    "    print(\"파일 자원 정리 완료\")\n",
    "    "
   ]
  },
  {
   "cell_type": "markdown",
   "metadata": {},
   "source": [
    "### **문제 5: try-else 블럭**\n",
    "\n",
    "다람쥐는 사용자로부터 숫자를 입력받아 2로 나눈 결과를 출력하려고 합니다.\n",
    "\n",
    "1. 사용자로부터 숫자를 입력받아 정수로 변환하세요.\n",
    "2. 입력값이 숫자가 아닐 경우 `\"숫자를 입력해야 합니다.\"`를 출력하세요.\n",
    "3. 숫자가 올바르게 입력되면 입력값을 2로 나눈 결과를 출력하세요."
   ]
  },
  {
   "cell_type": "code",
   "execution_count": 103,
   "metadata": {},
   "outputs": [
    {
     "name": "stdout",
     "output_type": "stream",
     "text": [
      "숫자를 입력해야 합니다.\n"
     ]
    }
   ],
   "source": [
    "num = 0  # num이 둘다 같은 지역변수로 서로 접근 불가 / 따라서 초기값 할당하기!\n",
    "try:\n",
    "    num = int(input(\"숫자 입력:\"))\n",
    "\n",
    "except:\n",
    "    print('숫자를 입력해야 합니다.')\n",
    "\n",
    "else:\n",
    "    print(num / 2)"
   ]
  },
  {
   "cell_type": "code",
   "execution_count": 112,
   "metadata": {},
   "outputs": [
    {
     "name": "stdout",
     "output_type": "stream",
     "text": [
      "숫자를 입력해야 합니다.\n"
     ]
    }
   ],
   "source": [
    "# version2\n",
    "try:\n",
    "    num = int(input(\"숫자\"))  # try 구문에 들어가야 함! 예외 발생 할 수 잇는 곳곳\n",
    "    print(num / 2)\n",
    "\n",
    "except ValueError:\n",
    "    print(\"숫자를 입력해야 합니다.\")\n"
   ]
  }
 ],
 "metadata": {
  "kernelspec": {
   "display_name": "pystudy_env",
   "language": "python",
   "name": "python3"
  },
  "language_info": {
   "codemirror_mode": {
    "name": "ipython",
    "version": 3
   },
   "file_extension": ".py",
   "mimetype": "text/x-python",
   "name": "python",
   "nbconvert_exporter": "python",
   "pygments_lexer": "ipython3",
   "version": "3.12.8"
  }
 },
 "nbformat": 4,
 "nbformat_minor": 2
}
