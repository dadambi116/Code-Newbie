{
 "cells": [
  {
   "cell_type": "markdown",
   "metadata": {},
   "source": [
    "# 예외 처리"
   ]
  },
  {
   "cell_type": "markdown",
   "metadata": {},
   "source": [
    "만드는 이유: 사용자에게 동적으로 값을 받아야 하는 경우 등등\n",
    "      발생한 예외의 이유를 알 수 있음(상속문으로 사용용)"
   ]
  },
  {
   "cell_type": "code",
   "execution_count": null,
   "metadata": {},
   "outputs": [],
   "source": [
    "# 교안 예시\n",
    "class MyError(Exception):\n",
    "    pass\n",
    "def say_nick(nick):\n",
    "    if nick == '돼지':\n",
    "        raise MyError()    # raise 사용\n",
    "    print(nick)\n",
    "\n",
    "try:        # try는 하나만 except는  여러개 사용 가능능\n",
    "    say_nick(\"곰\")\n",
    "    say_nick(\"돼지\")\n",
    "    \n",
    "except MyError:    # class 형태태\n",
    "    print(\"허용되지 않는 별명입니다.\")    # 예외 발생시 동작 코드"
   ]
  }
 ],
 "metadata": {
  "kernelspec": {
   "display_name": "pystudy_env",
   "language": "python",
   "name": "python3"
  },
  "language_info": {
   "name": "python",
   "version": "3.12.8"
  }
 },
 "nbformat": 4,
 "nbformat_minor": 2
}
