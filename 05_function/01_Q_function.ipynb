{
 "cells": [
  {
   "cell_type": "code",
   "execution_count": null,
   "metadata": {},
   "outputs": [
    {
     "ename": "SyntaxError",
     "evalue": "invalid syntax (3861115597.py, line 3)",
     "output_type": "error",
     "traceback": [
      "\u001b[1;36m  Cell \u001b[1;32mIn[136], line 3\u001b[1;36m\u001b[0m\n\u001b[1;33m    **\"다람쥐는 IT 회사 첫 출근 날, 자기소개를 준비했다.\"**\u001b[0m\n\u001b[1;37m    ^\u001b[0m\n\u001b[1;31mSyntaxError\u001b[0m\u001b[1;31m:\u001b[0m invalid syntax\n"
     ]
    }
   ],
   "source": [
    "## **문제 1: 자기소개 하기**\n",
    "\n",
    "**\"다람쥐는 IT 회사 첫 출근 날, 자기소개를 준비했다.\"**\n",
    "\n",
    "1. `introduce()`라는 함수를 만들어 **\"안녕하세요, 저는 다람쥐 신입사원입니다!\"**라는 메시지를 출력하세요.\n",
    "2. 함수를 호출하여 다람쥐의 자기소개를 출력하세요."
   ]
  },
  {
   "cell_type": "code",
   "execution_count": 1,
   "metadata": {},
   "outputs": [
    {
     "name": "stdout",
     "output_type": "stream",
     "text": [
      "안녕하세요, 저는 다람쥐 신입사원입니다!\n"
     ]
    }
   ],
   "source": [
    "def introduce():\n",
    "    print(\"안녕하세요, 저는 다람쥐 신입사원입니다!\")\n",
    "introduce()"
   ]
  },
  {
   "cell_type": "markdown",
   "metadata": {},
   "source": [
    "## **문제 2: 출근 체크하기**\n",
    "\n",
    "**\"다람쥐는 출근할 때 출근부에 이름을 적어야 한다.\"**\n",
    "\n",
    "1. `check_in(name)`이라는 함수를 만들어 매개변수 `name`을 입력받아 다음과 같이 출력하세요.\n",
    "    - **\"[이름]님, 출근 체크 완료!\"**\n",
    "2. 함수를 호출해 **\"다람쥐\"**를 출근 체크하세요."
   ]
  },
  {
   "cell_type": "code",
   "execution_count": 2,
   "metadata": {},
   "outputs": [
    {
     "name": "stdout",
     "output_type": "stream",
     "text": [
      "다람쥐님, 출근 체크 완료!\n"
     ]
    }
   ],
   "source": [
    "def check_in(name):\n",
    "    print(f\"{name}님, 출근 체크 완료!\")\n",
    "check_in('다람쥐')"
   ]
  },
  {
   "cell_type": "markdown",
   "metadata": {},
   "source": [
    "## **문제 3: 업무 시간 계산하기**\n",
    "\n",
    "**\"다람쥐는 오늘 근무한 시간을 계산하고 싶다.\"**\n",
    "\n",
    "1. `work_hours(start, end)`라는 함수를 만들어 매개변수 `start`(출근 시간)와 `end`(퇴근 시간)를 입력받아 근무 시간을 계산하세요.\n",
    "    - 근무 시간 = `end - start`\n",
    "2. 반환된 근무 시간을 출력하세요.\n",
    "    - 출력 예시: **\"오늘 근무한 시간은 [근무 시간]시간입니다.\"**"
   ]
  },
  {
   "cell_type": "code",
   "execution_count": 15,
   "metadata": {},
   "outputs": [
    {
     "name": "stdout",
     "output_type": "stream",
     "text": [
      "오늘 근무한 시간은 2시간입니다.\n"
     ]
    }
   ],
   "source": [
    "def work_hours(start,end):\n",
    "    return (end-start)      # print 가 아니라 return 사용했어야 함!\n",
    "result = work_hours(3,5)\n",
    "print(f\"오늘 근무한 시간은 {result}시간입니다.\") # 왜 값이 대입이 안 될까?\n",
    "\n",
    "# print(f\"오늘 근무한 시간은 {work_hours(3,5)}시간입니다.\")"
   ]
  },
  {
   "cell_type": "code",
   "execution_count": 51,
   "metadata": {},
   "outputs": [
    {
     "name": "stdout",
     "output_type": "stream",
     "text": [
      "9\n",
      "오늘 근무한 시간은 None시간입니다.\n"
     ]
    }
   ],
   "source": [
    "def work_hours(start,end):\n",
    "    return (end-start) \n",
    "print(f\"오늘 근무한 시간은 {work_hours(9,18)}시간입니다.\")"
   ]
  },
  {
   "cell_type": "markdown",
   "metadata": {},
   "source": [
    "## **문제 4: 점심 메뉴 추천**\n",
    "\n",
    "**\"점심시간, 다람쥐는 팀원들에게 점심 메뉴를 추천해준다.\"**\n",
    "\n",
    "1. `recommend_menu(*menus)`라는 함수를 만들어 여러 개의 점심 메뉴를 매개변수로 전달받으세요.\n",
    "2. 랜덤하게 하나의 메뉴를 선택하고 반환하세요.\n",
    "    - 출력 예시: **\"오늘의 점심 메뉴는 [선택된 메뉴]입니다!\"**\n",
    "    - 힌트: `random.choice()`를 사용하면 랜덤 선택이 가능합니다."
   ]
  },
  {
   "cell_type": "code",
   "execution_count": 66,
   "metadata": {},
   "outputs": [
    {
     "name": "stdout",
     "output_type": "stream",
     "text": [
      "오늘의 점심 메뉴는 ('떡볶이', '김밥', '라면', '김치볶음밥')!\n"
     ]
    }
   ],
   "source": [
    "import random\n",
    "def recommend_menu(*menus):       # 패키징\n",
    "    return random.choice(menus)\n",
    "menus = ('떡볶이','김밥','라면','김치볶음밥')   \n",
    "recommended_menu = recommend_menu(menus)   # menus라는 튜플 전체가 한 묶음이 되어서 *menus 에 들어감  / 각 요소로 추출되지 못 함함\n",
    "print(f\"오늘의 점심 메뉴는 {recommended_menu}!\")\n",
    "\n",
    "\n",
    "\n",
    "\n",
    "# 모듈이라는 내용이 필요\n",
    "# print(f\"오늘의 점심 메뉴는 {}입니다!\")"
   ]
  },
  {
   "cell_type": "code",
   "execution_count": 73,
   "metadata": {},
   "outputs": [
    {
     "name": "stdout",
     "output_type": "stream",
     "text": [
      "오늘의 점심 메뉴는 제육볶음입니다!\n"
     ]
    }
   ],
   "source": [
    "import random\n",
    "def recommend_menu(*menus):\n",
    "    return random.choice(menus)  # 모듈이 가진 함수 / 자료형에 의존하는 매서드가 아님\n",
    "\n",
    "recommended_menu = recommend_menu('돈가스','제육볶음','떡볶이','김치찌개')    \n",
    "\n",
    "print(f\"오늘의 점심 메뉴는 {recommended_menu}입니다!\")\n"
   ]
  },
  {
   "cell_type": "markdown",
   "metadata": {},
   "source": [
    "## **문제 5: 오후 커피 마시기**\n",
    "\n",
    "**\"오후에 졸린 다람쥐는 커피를 마시려고 한다.\"**\n",
    "\n",
    "1. `coffee_time()`이라는 함수를 만들어 다음과 같은 문자열을 반환하세요.\n",
    "    - **\"오후 3시입니다. 커피 한 잔 하세요!\"**\n",
    "2. 반환된 문자열을 출력하세요."
   ]
  },
  {
   "cell_type": "code",
   "execution_count": 183,
   "metadata": {},
   "outputs": [
    {
     "name": "stdout",
     "output_type": "stream",
     "text": [
      "오후 3시입니다. 커피 한 잔 하세요!\n"
     ]
    }
   ],
   "source": [
    " def coffee_time():\n",
    "      return \"오후 3시입니다. 커피 한 잔 하세요!\"\n",
    "print(coffee_time())"
   ]
  },
  {
   "cell_type": "markdown",
   "metadata": {},
   "source": [
    "## **문제 6: 업무 성과 분석하기**\n",
    "\n",
    "**\"다람쥐는 오늘의 업무 성과를 보고해야 한다.\"**\n",
    "\n",
    "1. `work_report(tasks_done)`이라는 함수를 만들어 오늘 처리한 업무 수를 매개변수로 받으세요.\n",
    "2. 함수는 다음 두 값을 반환합니다.\n",
    "    - `tasks_done`: 처리한 업무 수\n",
    "    - `status`: 업무 성과 평가 (10개 이상: \"우수\", 5~9개: \"보통\", 4개 이하: \"노력 필요\")\n",
    "3. 반환된 값을 사용해 다음 메시지를 출력하세요.\n",
    "    - **\"오늘 처리한 업무는 [업무 수]개입니다. 성과 평가: [평가]\"**"
   ]
  },
  {
   "cell_type": "code",
   "execution_count": 221,
   "metadata": {},
   "outputs": [
    {
     "name": "stdout",
     "output_type": "stream",
     "text": [
      "오늘 처리한 업무는 9개입니다. 성과 평가:보통\n"
     ]
    }
   ],
   "source": [
    "# my\n",
    "'''01_Q_function.ipynbdef work_report(tasks_done):\n",
    "    if tasks_done >= 10:\n",
    "        print(\"우수\")\n",
    "    elif tasks_done <= 9 and tasks_done >= 5:\n",
    "        print(\"보통\")\n",
    "    elif tasks_done <= 4:\n",
    "        print(\"노력 필요\")\n",
    "    return tasks_done\n",
    "work_report(10)\n",
    "\n",
    "print(f\"오늘 처리한 업무는 {tasks_done}개입니다.\")\n",
    "# 성과 평가:{status}\n",
    "'''\n",
    "\n",
    "def work_report(tasks_done):\n",
    "    if tasks_done >= 10:\n",
    "        status = \"우수\"\n",
    "    elif tasks_done <= 9 and tasks_done >= 5:\n",
    "        status  = \"보통\"\n",
    "    elif tasks_done <= 4:\n",
    "        status = \"노력 필요\"\n",
    "    return tasks_done,status\n",
    "tasks_done,status = work_report(9)   # 여기서 오류 남남\n",
    "print(f\"오늘 처리한 업무는 {tasks_done}개입니다. 성과 평가:{status}\")\n",
    "\n"
   ]
  },
  {
   "cell_type": "code",
   "execution_count": 220,
   "metadata": {},
   "outputs": [
    {
     "name": "stdout",
     "output_type": "stream",
     "text": [
      "오늘 처리한 업무는 10개입니다. 성과 평가: 우수\n"
     ]
    }
   ],
   "source": [
    "def work_report(tasks_done):\n",
    "     \n",
    "     # status 값 정해줘야 함\n",
    "     # 조건에 따라 status 달라지니까 if나  삼항 연산자로 \n",
    "    status = ''  # 기본값 세팅 먼저 해놓고 나중에 반환환\n",
    "    if tasks_done >= 10:\n",
    "        status = '우수'\n",
    "    elif tasks_done >= 5:\n",
    "        status = '보통'\n",
    "    else:\n",
    "        status = '노력 필요'\n",
    "\n",
    "        # 삼항연산자 중첩\n",
    "        # status = '우수' if tasks_done >= 10 else('보통' if tasks_done >= 5 else '노력필요')\n",
    "     \n",
    "    return tasks_done,status # 반환값 여러개 \n",
    "\n",
    "result_tasks_done,result_status = work_report(10)  # 변수 생성   # 변수 설정이 꼭 필요?\n",
    "print(f\"오늘 처리한 업무는 {result_tasks_done}개입니다. 성과 평가: {result_status}\")"
   ]
  },
  {
   "cell_type": "markdown",
   "metadata": {},
   "source": [
    "## **문제 7: 월급 계산 및 세금 공제**\n",
    "\n",
    "**\"다람쥐는 첫 월급을 계산하고 세금을 공제해야 한다.\"**\n",
    "\n",
    "1. `calculate_salary(base_salary, bonus)`라는 함수를 만들어 기본 월급과 보너스를 매개변수로 받으세요.\n",
    "2. 총 월급을 계산하고, 세금은 총 월급의 10%로 공제하세요.\n",
    "3. 함수는 다음 두 값을 반환합니다.\n",
    "    - `net_salary`: 실수령액 (총 월급 - 세금)\n",
    "    - `tax`: 세금 공제액\n",
    "4. 반환된 값을 사용해 다음 메시지를 출력하세요.\n",
    "    - **\"세전 월급: [총 월급]원, 세금: [세금]원, 실수령액: [실수령액]원\"**"
   ]
  },
  {
   "cell_type": "code",
   "execution_count": 159,
   "metadata": {},
   "outputs": [
    {
     "name": "stdout",
     "output_type": "stream",
     "text": [
      "세전 월급:1500, 세금: 150.0, 실수령액:1350.0원\n"
     ]
    }
   ],
   "source": [
    "def calculate_salary(base_salary, bonus):\n",
    "    return int(base_salary)+ int(bonus)\n",
    "\n",
    "print(f\"세전 월급:{calculate_salary(1000,500)}, 세금: {calculate_salary(1000,500)*0.1}, 실수령액:{calculate_salary(1000,500)*0.9}원\")\n"
   ]
  },
  {
   "cell_type": "code",
   "execution_count": 161,
   "metadata": {},
   "outputs": [
    {
     "name": "stdout",
     "output_type": "stream",
     "text": [
      "세전 월급:50100000.0, 세금: 5010000.0, 실수령액:45090000.0원\n"
     ]
    }
   ],
   "source": [
    "def calculate_salary(base_salary, bonus):\n",
    "    total_salary = base_salary + bonus\n",
    "    tax = total_salary*0.1\n",
    "    net_salary = total_salary - tax\n",
    "           \n",
    "    return net_salary,tax\n",
    "\n",
    "result_net_salary, result_tax = calculate_salary(50000000,100000)\n",
    "\n",
    "print(f\"세전 월급:{result_net_salary + result_tax}, 세금: {result_tax}, 실수령액:{result_net_salary}원\")\n",
    "\n"
   ]
  },
  {
   "cell_type": "code",
   "execution_count": null,
   "metadata": {},
   "outputs": [],
   "source": []
  }
 ],
 "metadata": {
  "kernelspec": {
   "display_name": "pystudy_env",
   "language": "python",
   "name": "python3"
  },
  "language_info": {
   "codemirror_mode": {
    "name": "ipython",
    "version": 3
   },
   "file_extension": ".py",
   "mimetype": "text/x-python",
   "name": "python",
   "nbconvert_exporter": "python",
   "pygments_lexer": "ipython3",
   "version": "3.12.8"
  }
 },
 "nbformat": 4,
 "nbformat_minor": 2
}
