{
 "cells": [
  {
   "cell_type": "markdown",
   "metadata": {},
   "source": [
    "특정 기능을 하기 위한 코드의 집합\n",
    "함수를 정의하고 그 함수를 호출해서 사용\n",
    "\n",
    "함수를 호출할 때 넘겨준 값이 인자(argument)  ,매개변수와 헷갈릴수도\n",
    "\n",
    "매개변수, 인자, 리턴값\n",
    "파라미터 리턴값 여부에 따라 4가지로 나뉨\n",
    "\n",
    "# 매개변수\n",
    "파라미터 = 공간 / 호출 값을 전달받는 것것 / 변수명 뒤 / \n",
    "기본값을 지정할 수 있음 함수 선언부에서 선언하지 않을 경우 기본값 사용\n",
    "안들어가도 됨\n",
    "\n",
    "인자 = 공간에 들어가는 '값'\n",
    "   위치 인자\n",
    "   키워드 인자 \n",
    "      예시) sort에서 쓴 reverse  / reverse를 True로 할당할 경우 역순 배치 # 체크\n",
    "     위치 인자 먼저 - 키워드 인자\n",
    "\n",
    "# 반환값\n",
    "함수 선언 후 조건문을 사용하여 함수를 중단하는 역할로 많이 쓰임\n",
    "\n",
    "\n"
   ]
  },
  {
   "cell_type": "code",
   "execution_count": 104,
   "metadata": {},
   "outputs": [
    {
     "name": "stdout",
     "output_type": "stream",
     "text": [
      "[4, 5, 3, 2, 1]\n",
      "[5, 4, 3, 2, 1]\n"
     ]
    }
   ],
   "source": [
    "list = [1,2,3,5,4]  # 단순히 순서를 뒤집는 것것\n",
    "list.reverse()\n",
    "print(list)\n",
    "\n",
    "\n",
    "list.sort(reverse=True)  # 내림차순으로 정렬하는 것\n",
    "print(list)\n"
   ]
  },
  {
   "cell_type": "code",
   "execution_count": 52,
   "metadata": {},
   "outputs": [],
   "source": [
    "# 파라미터, 리턴 둘다 X\n",
    "def print_greeting():\n",
    "    print(\"좋은 아침입니다 :) Merry Chiristmas\")\n",
    "    \n",
    "   # return       # 함수의 중단 & 반환값을 주는 것것\n",
    "\n",
    "    print(\"출력을 하나 더!\")   #code is unreachable 뜸   반복문 while 무한 루프일 때도 뜸?\n",
    "      # return 키워드가 암묵적으로 존재"
   ]
  },
  {
   "cell_type": "code",
   "execution_count": null,
   "metadata": {},
   "outputs": [],
   "source": [
    "# 파라미터 X, return O  - \n",
    "def return_greeting():\n",
    "    return \"좋은 아침입니다 :) Merry Chiristmas\"  # 반환값을 넣지 않더라도 사용가능   # 리턴은 함수를 중단하는데 목적이 있음음\n",
    "     # 반환값이 남을 뿐 출력되지 않음!"
   ]
  },
  {
   "cell_type": "code",
   "execution_count": 55,
   "metadata": {},
   "outputs": [
    {
     "name": "stdout",
     "output_type": "stream",
     "text": [
      "담비님, 좋은 아침입니다 :) Merry Chiristmas\n"
     ]
    }
   ],
   "source": [
    "# 3 파라미터 O, return x - print_greeting()과 같은 기능, 파라미터로 인사할 사람 이름 받아서\n",
    "#  {이름}님, 좋은 아침입니다 :) Merry Chiristmas\n",
    "def print_greeting_name(name):\n",
    "    print(f\"{name}님, 좋은 아침입니다 :) Merry Chiristmas\")\n",
    "\n",
    "print_greeting_name(\"담비\")"
   ]
  },
  {
   "cell_type": "code",
   "execution_count": 57,
   "metadata": {},
   "outputs": [
    {
     "name": "stdout",
     "output_type": "stream",
     "text": [
      "담비님, 좋은 아침입니다 :) Merry Chiristmas\n"
     ]
    }
   ],
   "source": [
    "name_dog = '담비'\n",
    "print_greeting_name(name_dog)   # 변수 공간에는 타입의 제한이 없기 때문에 숫자로 들어가도 상관 X"
   ]
  },
  {
   "cell_type": "code",
   "execution_count": 58,
   "metadata": {},
   "outputs": [
    {
     "name": "stdout",
     "output_type": "stream",
     "text": [
      "담비비님, 좋은 아침입니다 :) Merry Chiristmas\n"
     ]
    }
   ],
   "source": [
    "# 3-1\n",
    "def print_greeting_name(name='담비비'):     # 기본값 할당당\n",
    "    print(f\"{name}님, 좋은 아침입니다 :) Merry Chiristmas\")\n",
    "print_greeting_name()   # 인자값이 없어도 호출가능\n",
    " "
   ]
  },
  {
   "cell_type": "code",
   "execution_count": 65,
   "metadata": {},
   "outputs": [
    {
     "name": "stdout",
     "output_type": "stream",
     "text": [
      "담비님, 좋은 오후입니다 :) Merry Chiristmas\n"
     ]
    }
   ],
   "source": [
    "# 4\n",
    "#파라미터 O, return O - 파라미터로 인사할 사람 이름 \n",
    "#  {이름}님, 좋은 아침입니다 :) Merry Chiristmas을 반환\n",
    "def return_greeting_name(name,time):\n",
    "    return f\"{name}님, 좋은 {time}입니다 :) Merry Chiristmas\"\n",
    "print(return_greeting_name(\"담비\",\"오후\")) # 위치 인자자\n"
   ]
  },
  {
   "cell_type": "code",
   "execution_count": 73,
   "metadata": {},
   "outputs": [
    {
     "name": "stdout",
     "output_type": "stream",
     "text": [
      "호랑이님, 좋은 점심입니다 :) Merry Chiristmas\n",
      "상어님, 좋은 저녁입니다 :) Merry Chiristmas\n",
      "토끼님, 좋은 간식시간입니다 :) Merry Chiristmas\n"
     ]
    }
   ],
   "source": [
    "# result 4\n",
    "print(return_greeting_name(name='호랑이',time='점심'))  # 키워드 인자 활용\n",
    "print(return_greeting_name(time='저녁',name='상어'))  # 순서를 안 맞춰도 괜찮찮\n",
    "\n",
    "# 위치 인자와 키워드 인자의 혼합\n",
    "print(return_greeting_name('토끼',time = '간식시간'))\n",
    " # print(return_greeting_name(name='매','노을지는 시간')) \n",
    "      # 키워드 인자 뒤 위치 인자 X"
   ]
  },
  {
   "cell_type": "code",
   "execution_count": 53,
   "metadata": {},
   "outputs": [
    {
     "name": "stdout",
     "output_type": "stream",
     "text": [
      "좋은 아침입니다 :) Merry Chiristmas\n",
      "좋은 아침입니다 :) Merry Chiristmas\n",
      "None\n"
     ]
    }
   ],
   "source": [
    "# result 1\n",
    "print_greeting()\n",
    "\n",
    "print(print_greeting())  # none\n",
    "\n",
    "\n",
    "# 예시 sorted seq를 받아서 정렬하고 새롭게 정렬된 걸 보냄\n",
    "    # sort 받는 것도 없고 앞에 의존한 값을 그냥 정렬   따라서 결과는 none 이 출력"
   ]
  },
  {
   "cell_type": "code",
   "execution_count": 39,
   "metadata": {},
   "outputs": [
    {
     "name": "stdout",
     "output_type": "stream",
     "text": [
      "좋은 아침입니다 :) Merry Chiristmas\n",
      "좋은 아침입니다 :) Merry Chiristmas\n"
     ]
    }
   ],
   "source": [
    "# result 2\n",
    "greeting = return_greeting()    # 다시 변수를 지정해서 호출해야 값이 나옴\n",
    "print(greeting)\n",
    "print(return_greeting())   # 안쪽 함수부터 호출하고 밖으로"
   ]
  },
  {
   "cell_type": "markdown",
   "metadata": {},
   "source": [
    "call by value: 숫자, 문자열등 immutable 객체형에 대해\n",
    "  값 자체의 전달\n",
    "\n",
    "call by reference\n",
    " reference 주소값을 넘김  / 원본의 변형이 됨"
   ]
  },
  {
   "cell_type": "markdown",
   "metadata": {},
   "source": []
  },
  {
   "cell_type": "code",
   "execution_count": 105,
   "metadata": {},
   "outputs": [
    {
     "name": "stdout",
     "output_type": "stream",
     "text": [
      "(1, 2, 3)\n"
     ]
    }
   ],
   "source": [
    "\n",
    "# 튜플도 immutable\n",
    "def f3(t):\n",
    "    t = (4,5,6)\n",
    "a = (1,2,3)\n",
    "f3(a)\n",
    "print(a) \n"
   ]
  },
  {
   "cell_type": "code",
   "execution_count": 92,
   "metadata": {},
   "outputs": [],
   "source": [
    "# dic이나 reference에서 \n",
    "def f4(l):\n",
    "    l[0] = 100\n",
    "\n",
    "l = [1,2,3]\n",
    "f4(l)\n",
    "print(l)\n"
   ]
  },
  {
   "cell_type": "markdown",
   "metadata": {},
   "source": [
    "# 고차함수 - map , filter\n",
    " 함수를 인자로 받는 함수\n",
    " 고차의 함수를 인자로 보내는 것 콜백 함수\n"
   ]
  },
  {
   "cell_type": "markdown",
   "metadata": {},
   "source": [
    "### 패키징과 언패키징\n"
   ]
  },
  {
   "cell_type": "code",
   "execution_count": 97,
   "metadata": {},
   "outputs": [
    {
     "name": "stdout",
     "output_type": "stream",
     "text": [
      "다람쥐\n",
      "토끼\n",
      "여우\n",
      "호랑이\n",
      "늑대\n",
      "원숭이\n",
      "양\n"
     ]
    }
   ],
   "source": [
    "def call_animals(*animal_args):\n",
    "    for animal_name in animal_args:\n",
    "        print(animal_name)\n",
    "\n",
    "call_animals('다람쥐','토끼','여우','호랑이','늑대','원숭이','양')\n",
    "             \n",
    "             "
   ]
  },
  {
   "cell_type": "code",
   "execution_count": 100,
   "metadata": {},
   "outputs": [
    {
     "data": {
      "text/plain": [
       "2100"
      ]
     },
     "execution_count": 100,
     "metadata": {},
     "output_type": "execute_result"
    }
   ],
   "source": [
    "def multi_sum(num1,num2,num3,num4,num5):\n",
    "    return num1 + num2 +num3 + num4 + num5\n",
    "\n",
    "numbers = [2024,12,23,11,30]\n",
    "# multi_sum(numbers[0],numbers[1].....numbers[4])\n",
    "multi_sum(*numbers)"
   ]
  },
  {
   "cell_type": "markdown",
   "metadata": {},
   "source": []
  },
  {
   "cell_type": "code",
   "execution_count": 101,
   "metadata": {},
   "outputs": [
    {
     "name": "stdout",
     "output_type": "stream",
     "text": [
      "8\n"
     ]
    }
   ],
   "source": [
    "def add(x,y):\n",
    "    return x+y\n",
    "print(add(3,5))\n",
    "\n",
    "#람다 사용예시와 같은 것  , 콜백 함수에서 많이 쓰임"
   ]
  },
  {
   "cell_type": "code",
   "execution_count": null,
   "metadata": {},
   "outputs": [],
   "source": [
    "# map 과 같은 내용\n",
    "처리를 해서 배열을 바꿈\n",
    "def xxx(X):\n",
    "    return x**2"
   ]
  },
  {
   "cell_type": "code",
   "execution_count": null,
   "metadata": {},
   "outputs": [],
   "source": [
    "# filter \n",
    "def xxx(x):\n",
    "    return x % ==0   # T or F 반환\n",
    "# T가 반환되는 값만 남겨놓고 나머지 지움"
   ]
  },
  {
   "cell_type": "markdown",
   "metadata": {},
   "source": []
  }
 ],
 "metadata": {
  "kernelspec": {
   "display_name": "pystudy_env",
   "language": "python",
   "name": "python3"
  },
  "language_info": {
   "codemirror_mode": {
    "name": "ipython",
    "version": 3
   },
   "file_extension": ".py",
   "mimetype": "text/x-python",
   "name": "python",
   "nbconvert_exporter": "python",
   "pygments_lexer": "ipython3",
   "version": "3.12.8"
  }
 },
 "nbformat": 4,
 "nbformat_minor": 2
}
