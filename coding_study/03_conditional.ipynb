{
 "cells": [
  {
   "cell_type": "code",
   "execution_count": 3,
   "metadata": {},
   "outputs": [
    {
     "name": "stdout",
     "output_type": "stream",
     "text": [
      "A\n"
     ]
    }
   ],
   "source": [
    "# 9498 시험 성적\n",
    "\n",
    "score = int(input())\n",
    "if score >= 90:\n",
    "    print('A')\n",
    "elif score >= 80:\n",
    "    print(\"B\")\n",
    "elif score >= 70:\n",
    "    print(\"C\")\n",
    "elif score >= 60:\n",
    "    print(\"D\")\n",
    "else:\n",
    "    print(\"F\")"
   ]
  },
  {
   "cell_type": "code",
   "execution_count": null,
   "metadata": {},
   "outputs": [
    {
     "name": "stdout",
     "output_type": "stream",
     "text": [
      "1\n"
     ]
    }
   ],
   "source": [
    "# 2753 윤년\n",
    "year = int(input())\n",
    "if year % 4 ==0 and (year % 100 != 0 or year % 400 ==0):\n",
    "    print(1)\n",
    "else: \n",
    "    print(0)"
   ]
  },
  {
   "cell_type": "code",
   "execution_count": 8,
   "metadata": {},
   "outputs": [
    {
     "name": "stdout",
     "output_type": "stream",
     "text": [
      "Quadrant 1\n",
      "Quadrant 4\n"
     ]
    }
   ],
   "source": [
    "# 14681 사분면 고르기\n",
    "x= int(input())\n",
    "y = int(input())\n",
    "\n",
    "if x > 0 and y > 0:\n",
    "    print(\"1\")    \n",
    "elif x < 0 and y > 0:\n",
    "    print(\"2\")\n",
    "elif x < 0 and y < 0:\n",
    "    print(\"3\")\n",
    "else:\n",
    "    print(\"4\")"
   ]
  },
  {
   "cell_type": "code",
   "execution_count": 26,
   "metadata": {},
   "outputs": [
    {
     "name": "stdout",
     "output_type": "stream",
     "text": [
      "23 38\n"
     ]
    }
   ],
   "source": [
    "# 2884 알람 시계\n",
    "H, M = map(int, input().split())\n",
    "# M - 45 < 0 \n",
    "if M  < 45:\n",
    "    if H == 0:\n",
    "        H = 23\n",
    "    else:\n",
    "        H -= 1\n",
    "    M += 15\n",
    "else:\n",
    "    H = H\n",
    "    M -= 45\n",
    "print(H, M)\n"
   ]
  },
  {
   "cell_type": "code",
   "execution_count": null,
   "metadata": {},
   "outputs": [],
   "source": []
  }
 ],
 "metadata": {
  "kernelspec": {
   "display_name": "pystudy_env",
   "language": "python",
   "name": "python3"
  },
  "language_info": {
   "codemirror_mode": {
    "name": "ipython",
    "version": 3
   },
   "file_extension": ".py",
   "mimetype": "text/x-python",
   "name": "python",
   "nbconvert_exporter": "python",
   "pygments_lexer": "ipython3",
   "version": "3.12.8"
  }
 },
 "nbformat": 4,
 "nbformat_minor": 2
}
