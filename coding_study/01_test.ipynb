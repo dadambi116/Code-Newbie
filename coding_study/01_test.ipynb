{
 "cells": [
  {
   "cell_type": "code",
   "execution_count": null,
   "metadata": {},
   "outputs": [],
   "source": [
    "# 1. A +B \n",
    "# 2. A - B \n",
    "# 3. A / B\n",
    "\n",
    "# version 1\n",
    "\n",
    "a,b =  input().split()\n",
    "a = int(a)\n",
    "b = int(b)\n",
    "print(a+b)\n",
    "# 이럴 경우 값 주는 걸 \n",
    "# 2\n",
    "# 3\n",
    "# 이런 배열로 줘야함 "
   ]
  },
  {
   "cell_type": "code",
   "execution_count": 10,
   "metadata": {},
   "outputs": [
    {
     "name": "stdout",
     "output_type": "stream",
     "text": [
      "5\n"
     ]
    }
   ],
   "source": [
    "# version 2\n",
    "\n",
    "a, b  = map(int,input().split(','))\n",
    "print(a + b)\n",
    "\n",
    "# 이 경우 2, 3 가능\n",
    "# 공백으로 split이면 그냥 빈 채로 두기기"
   ]
  },
  {
   "cell_type": "code",
   "execution_count": null,
   "metadata": {},
   "outputs": [],
   "source": [
    "# 2. A - B \n",
    "a, b  = map(int,input().split(','))\n",
    "print(a - b)\n",
    "\n",
    "# 3. A / B"
   ]
  },
  {
   "cell_type": "code",
   "execution_count": 4,
   "metadata": {},
   "outputs": [
    {
     "name": "stdout",
     "output_type": "stream",
     "text": [
      "10\n",
      "0\n"
     ]
    }
   ],
   "source": [
    "# 4. 엄청난 부자 2\n",
    "n, m = map(int, input().split())\n",
    "print(n//m)\n",
    "print(n%m)"
   ]
  },
  {
   "cell_type": "code",
   "execution_count": null,
   "metadata": {},
   "outputs": [],
   "source": [
    "# 5. 두 수 비교하기 \n",
    "A, B = map(int, input().split())\n",
    "if A > B:\n",
    "    print('>')\n",
    "elif A < B:\n",
    "    print('<')\n",
    "else:\n",
    "    print('==')"
   ]
  },
  {
   "cell_type": "code",
   "execution_count": null,
   "metadata": {},
   "outputs": [
    {
     "name": "stdout",
     "output_type": "stream",
     "text": [
      "3\n",
      "-1\n",
      "2\n",
      "3 -1 2\n"
     ]
    }
   ],
   "source": [
    "# 6. 긴자리 계산\n",
    "# 두 수 A, B를 입력받아, A+B, A-B, A×B\n",
    "\n",
    "# # ver1\n",
    "# # 오답 / 예제의 입력 방법 잘 봐야함!\n",
    "# A, B = input()\n",
    "# A = int(A)\n",
    "# B = int(B)\n",
    "# print(A+B)\n",
    "# print(A-B)\n",
    "# print(A*B)\n",
    "\n",
    "# A, B 값을 한번에 받음 \n",
    "\n",
    "# ver2\n",
    "A = int(input())\n",
    "B = int(input())\n",
    "print(A+B)\n",
    "print(A-B)\n",
    "print(A*B)\n",
    "\n",
    "print(A+B, A-B, A*B)   # 이것도 정답 처리 해줌?\n",
    "\n",
    "\n",
    "# A, B 값을 각각 한번씩 받음 "
   ]
  },
  {
   "cell_type": "code",
   "execution_count": 19,
   "metadata": {},
   "outputs": [
    {
     "name": "stdout",
     "output_type": "stream",
     "text": [
      "3\n"
     ]
    }
   ],
   "source": [
    "# 7. 사파리 월드\n",
    "# 첫째 줄에 두 유명도의 차이 (|N-M|)을 출력\n",
    "\n",
    "N, M = map(int, input().split())\n",
    "print(abs(N - M))"
   ]
  },
  {
   "cell_type": "code",
   "execution_count": 27,
   "metadata": {},
   "outputs": [
    {
     "name": "stdout",
     "output_type": "stream",
     "text": [
      "\n",
      "*\n",
      "**\n",
      "***\n"
     ]
    }
   ],
   "source": [
    "# 8. 별 찍기 문제 -1\n",
    "# 첫째 줄에는 별 1개, 둘째 줄에는 별 2개, N번째 줄에는 별 N개를 찍는 문제\n",
    "\n",
    "N = int(input())\n",
    "for i in range(1, N+1):\n",
    "    star = '*' *i\n",
    "    print(star)"
   ]
  },
  {
   "cell_type": "code",
   "execution_count": 9,
   "metadata": {},
   "outputs": [
    {
     "name": "stdout",
     "output_type": "stream",
     "text": [
      "1\n"
     ]
    }
   ],
   "source": [
    "# 9. 검증수\n",
    "# 고유번호의 처음 5자리에는 00000부터 99999까지의 수 중 하나가 주어지며 6번째 자리에는 검증수가 들어간다. \n",
    "# 검증수는 고유번호의 처음 5자리에 들어가는 5개의 숫자를 각각 제곱한 수의 합을 10으로 나눈 나머지\n",
    "\n",
    "\n",
    "# N = map(int, input().split())\n",
    "# N = input()\n",
    "# sum = 0\n",
    "# for i in range(len(N)):\n",
    "#     sum += N[i]^2\n",
    "#     print(sum)\n",
    "\n",
    "\n",
    "\n",
    "#1.  각 숫자 하나씩 도출해보기  (성공)\n",
    "# N = map(int, input().split())\n",
    "# print(list(N))\n",
    "\n",
    "# 2. 각 숫자 더하기 / 이후에 나누기 코드 추가\n",
    "N = list(map(int, input().split()))\n",
    "result = 0\n",
    "for i in range(len(N)):\n",
    "    result += (N[i]**2) \n",
    "total = result % 10\n",
    "print(total)\n",
    "\n",
    "\n",
    "a,b,c,d,e = map(int,input().split())\n",
    "print()\n",
    "\n",
    "\n"
   ]
  },
  {
   "cell_type": "code",
   "execution_count": null,
   "metadata": {},
   "outputs": [],
   "source": [
    "# 10. Hello World\n",
    "print('Hello World!')"
   ]
  }
 ],
 "metadata": {
  "kernelspec": {
   "display_name": "pystudy_env",
   "language": "python",
   "name": "python3"
  },
  "language_info": {
   "codemirror_mode": {
    "name": "ipython",
    "version": 3
   },
   "file_extension": ".py",
   "mimetype": "text/x-python",
   "name": "python",
   "nbconvert_exporter": "python",
   "pygments_lexer": "ipython3",
   "version": "3.12.8"
  }
 },
 "nbformat": 4,
 "nbformat_minor": 2
}
